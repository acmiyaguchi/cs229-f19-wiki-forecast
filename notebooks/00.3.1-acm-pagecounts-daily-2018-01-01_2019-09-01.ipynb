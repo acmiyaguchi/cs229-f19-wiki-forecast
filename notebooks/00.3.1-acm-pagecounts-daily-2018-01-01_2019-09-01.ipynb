{
 "cells": [
  {
   "cell_type": "code",
   "execution_count": 1,
   "metadata": {},
   "outputs": [
    {
     "name": "stdout",
     "output_type": "stream",
     "text": [
      "4.6G\t../data/processed/pagecount\r\n"
     ]
    }
   ],
   "source": [
    "! du -h ../data/processed/pagecount"
   ]
  },
  {
   "cell_type": "code",
   "execution_count": 2,
   "metadata": {},
   "outputs": [],
   "source": [
    "pagecount = spark.read.parquet(\"../data/processed/pagecount\")"
   ]
  },
  {
   "cell_type": "code",
   "execution_count": 3,
   "metadata": {},
   "outputs": [
    {
     "name": "stdout",
     "output_type": "stream",
     "text": [
      "+-------+-------------------+-----+\n",
      "|page_id|         visit_time|count|\n",
      "+-------+-------------------+-----+\n",
      "|   1436|2019-07-02 00:00:00|   41|\n",
      "|   1436|2019-07-02 01:00:00|   36|\n",
      "|   1436|2019-07-02 02:00:00|   40|\n",
      "|   1436|2019-07-02 03:00:00|   31|\n",
      "|   1436|2019-07-02 04:00:00|   25|\n",
      "+-------+-------------------+-----+\n",
      "only showing top 5 rows\n",
      "\n"
     ]
    }
   ],
   "source": [
    "pagecount.show(n=5)"
   ]
  },
  {
   "cell_type": "code",
   "execution_count": 4,
   "metadata": {},
   "outputs": [
    {
     "name": "stdout",
     "output_type": "stream",
     "text": [
      "+-------+----------+-----+\n",
      "|page_id|      date|count|\n",
      "+-------+----------+-----+\n",
      "|   1436|2018-06-27| 1154|\n",
      "|   1436|2018-11-08| 1598|\n",
      "|   1436|2018-03-07| 1617|\n",
      "|   2085|2019-05-12|  726|\n",
      "|   2085|2018-11-28| 1176|\n",
      "|   2085|2018-02-15| 1331|\n",
      "|   2085|2019-01-11| 1040|\n",
      "|   2085|2019-03-18|  952|\n",
      "|   2085|2018-04-16| 1414|\n",
      "|   2761|2018-12-31|  130|\n",
      "|   2761|2018-05-29|  338|\n",
      "|   2761|2019-02-17|  215|\n",
      "|   2822|2019-01-17|  166|\n",
      "|   2822|2019-04-16|  133|\n",
      "|   2844|2019-08-28|  343|\n",
      "|   2844|2018-12-14|  251|\n",
      "|   2844|2019-02-13|  268|\n",
      "|   3138|2018-09-07| 2096|\n",
      "|   3138|2019-03-03| 1484|\n",
      "|   3457|2018-05-30| 2945|\n",
      "+-------+----------+-----+\n",
      "only showing top 20 rows\n",
      "\n"
     ]
    }
   ],
   "source": [
    "import pyspark.sql.functions as F\n",
    "daily = (\n",
    "    pagecount\n",
    "    .select(\"page_id\", F.date_format(\"visit_time\", \"yyyy-MM-dd\").alias(\"date\"), \"count\")\n",
    "    .groupBy(\"page_id\", \"date\")\n",
    "    .agg(F.sum(\"count\").alias(\"count\"))\n",
    ")\n",
    "daily.show()"
   ]
  },
  {
   "cell_type": "code",
   "execution_count": 17,
   "metadata": {},
   "outputs": [],
   "source": [
    "daily.repartitionByRange(2, \"page_id\", \"date\").write.parquet(\n",
    "    \"../data/enwiki/pagecount_daily_v2\", mode=\"overwrite\"\n",
    ")"
   ]
  },
  {
   "cell_type": "code",
   "execution_count": 18,
   "metadata": {},
   "outputs": [
    {
     "name": "stdout",
     "output_type": "stream",
     "text": [
      "\u001b[01;34m../data/enwiki/pagecount_daily_v2/\u001b[00m\r\n",
      "├── [   0]  _SUCCESS\r\n",
      "├── [235M]  part-00000-97cd53e2-dab7-4dc1-bb1c-32d45d1e7669-c000.snappy.parquet\r\n",
      "└── [249M]  part-00001-97cd53e2-dab7-4dc1-bb1c-32d45d1e7669-c000.snappy.parquet\r\n",
      "\r\n",
      "0 directories, 3 files\r\n"
     ]
    }
   ],
   "source": [
    "! tree -h ../data/enwiki/pagecount_daily_v2/"
   ]
  }
 ],
 "metadata": {
  "kernelspec": {
   "display_name": "Python 3",
   "language": "python",
   "name": "python3"
  },
  "language_info": {
   "codemirror_mode": {
    "name": "ipython",
    "version": 3
   },
   "file_extension": ".py",
   "mimetype": "text/x-python",
   "name": "python",
   "nbconvert_exporter": "python",
   "pygments_lexer": "ipython3",
   "version": "3.6.7"
  }
 },
 "nbformat": 4,
 "nbformat_minor": 2
}
