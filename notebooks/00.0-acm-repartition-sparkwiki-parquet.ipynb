{
 "cells": [
  {
   "cell_type": "code",
   "execution_count": 1,
   "metadata": {},
   "outputs": [],
   "source": [
    "! cd .."
   ]
  },
  {
   "cell_type": "code",
   "execution_count": 2,
   "metadata": {},
   "outputs": [
    {
     "name": "stdout",
     "output_type": "stream",
     "text": [
      "\u001b[01;36m../data\u001b[00m\r\n",
      "├── \u001b[01;34mbzipped\u001b[00m\r\n",
      "├── \u001b[01;34menwiki\u001b[00m\r\n",
      "│   ├── \u001b[01;34mcategorylinks\u001b[00m\r\n",
      "│   ├── \u001b[01;34mcategorypages\u001b[00m\r\n",
      "│   ├── \u001b[01;34mpagelinks\u001b[00m\r\n",
      "│   └── \u001b[01;34mpages\u001b[00m\r\n",
      "├── \u001b[01;34mprocessed\u001b[00m\r\n",
      "│   ├── \u001b[01;34mcategorylinks\u001b[00m\r\n",
      "│   ├── \u001b[01;34mpage\u001b[00m\r\n",
      "│   │   ├── \u001b[01;34mcategory_pages\u001b[00m\r\n",
      "│   │   └── \u001b[01;34mnormal_pages\u001b[00m\r\n",
      "│   └── \u001b[01;34mpagelinks\u001b[00m\r\n",
      "└── \u001b[01;34mraw\u001b[00m\r\n",
      "\r\n",
      "13 directories\r\n"
     ]
    }
   ],
   "source": [
    "! tree -d ../data"
   ]
  },
  {
   "cell_type": "markdown",
   "metadata": {},
   "source": [
    "# Read data with schema"
   ]
  },
  {
   "cell_type": "code",
   "execution_count": 3,
   "metadata": {},
   "outputs": [],
   "source": [
    "from pyspark.sql import SparkSession\n",
    "\n",
    "spark = SparkSession.builder.getOrCreate()"
   ]
  },
  {
   "cell_type": "code",
   "execution_count": 28,
   "metadata": {
    "scrolled": true
   },
   "outputs": [
    {
     "name": "stdout",
     "output_type": "stream",
     "text": [
      "+--------+--------------------+--------+------+\n",
      "|    from|               title|    dest|  type|\n",
      "+--------+--------------------+--------+------+\n",
      "| 2137402|1000_V_DC_railway...|57839957|subcat|\n",
      "|51991420|1000_V_DC_railway...|57839957|  page|\n",
      "|25064564|1000_V_DC_railway...|57839957|  page|\n",
      "|57839948|1000_V_DC_railway...|57839957|subcat|\n",
      "|   60340|1000_V_DC_railway...|57839957|  page|\n",
      "+--------+--------------------+--------+------+\n",
      "only showing top 5 rows\n",
      "\n",
      "+----+--------+\n",
      "|from|    dest|\n",
      "+----+--------+\n",
      "| 877|  559437|\n",
      "| 877|   32693|\n",
      "| 877|51097219|\n",
      "| 877|  167496|\n",
      "| 877|  278728|\n",
      "+----+--------+\n",
      "only showing top 5 rows\n",
      "\n",
      "+--------+--------------------+-----------+------+\n",
      "|      id|               title|is_redirect|is_new|\n",
      "+--------+--------------------+-----------+------+\n",
      "|52356933|Christian_mission...|      false|  true|\n",
      "|52356969|Roman_Catholic_mi...|      false|  true|\n",
      "|52356978|Christian_mission...|      false| false|\n",
      "|52356986|Women_scientists_...|      false| false|\n",
      "|52356994|West_Bengal_acade...|      false| false|\n",
      "+--------+--------------------+-----------+------+\n",
      "only showing top 5 rows\n",
      "\n",
      "+---+---------+-----------+------+\n",
      "| id|    title|is_redirect|is_new|\n",
      "+---+---------+-----------+------+\n",
      "| 12|Anarchism|      false| false|\n",
      "| 25|   Autism|      false| false|\n",
      "| 39|   Albedo|      false| false|\n",
      "|290|        A|      false| false|\n",
      "|303|  Alabama|      false| false|\n",
      "+---+---------+-----------+------+\n",
      "only showing top 5 rows\n",
      "\n"
     ]
    }
   ],
   "source": [
    "data_dir = \"../data\"\n",
    "\n",
    "catlinks = spark.read.csv(\n",
    "    f\"{data_dir}/processed/categorylinks\",\n",
    "    schema=\"from INT, title STRING, dest STRING, type STRING\",\n",
    "    sep=\"\\t\",\n",
    ")\n",
    "pagelinks = spark.read.csv(\n",
    "    f\"{data_dir}/processed/pagelinks\",\n",
    "    schema=\"from INT, dest INT\",\n",
    "    sep=\"\\t\",\n",
    ")\n",
    "catpages = spark.read.csv(\n",
    "    f\"{data_dir}/processed/page/category_pages\",\n",
    "    schema=\"id INT, title STRING, is_redirect BOOLEAN, is_new BOOLEAN\",\n",
    "    sep=\"\\t\"\n",
    ")\n",
    "pages = spark.read.csv(\n",
    "    f\"{data_dir}/processed/page/normal_pages\", \n",
    "    schema=\"id INT, title STRING, is_redirect BOOLEAN, is_new BOOLEAN\",\n",
    "    sep=\"\\t\",\n",
    ")\n",
    "\n",
    "catlinks.show(n=5)\n",
    "pagelinks.show(n=5)\n",
    "catpages.show(n=5)\n",
    "pages.show(n=5)"
   ]
  },
  {
   "cell_type": "markdown",
   "metadata": {},
   "source": [
    "## Counts"
   ]
  },
  {
   "cell_type": "code",
   "execution_count": 23,
   "metadata": {},
   "outputs": [
    {
     "data": {
      "text/plain": [
       "5913792"
      ]
     },
     "execution_count": 23,
     "metadata": {},
     "output_type": "execute_result"
    }
   ],
   "source": [
    "pages.count()"
   ]
  },
  {
   "cell_type": "code",
   "execution_count": 24,
   "metadata": {},
   "outputs": [
    {
     "data": {
      "text/plain": [
       "491945166"
      ]
     },
     "execution_count": 24,
     "metadata": {},
     "output_type": "execute_result"
    }
   ],
   "source": [
    "pagelinks.count()"
   ]
  },
  {
   "cell_type": "code",
   "execution_count": 25,
   "metadata": {},
   "outputs": [
    {
     "data": {
      "text/plain": [
       "1851072"
      ]
     },
     "execution_count": 25,
     "metadata": {},
     "output_type": "execute_result"
    }
   ],
   "source": [
    "catpages.count()"
   ]
  },
  {
   "cell_type": "code",
   "execution_count": 26,
   "metadata": {},
   "outputs": [
    {
     "data": {
      "text/plain": [
       "67380060"
      ]
     },
     "execution_count": 26,
     "metadata": {},
     "output_type": "execute_result"
    }
   ],
   "source": [
    "catlinks.count()"
   ]
  },
  {
   "cell_type": "markdown",
   "metadata": {},
   "source": [
    "## Repartition data\n",
    "\n",
    "The data is repartitioned into 250mb chunks, which is reasonably sized for network transfer."
   ]
  },
  {
   "cell_type": "code",
   "execution_count": 33,
   "metadata": {
    "scrolled": true
   },
   "outputs": [
    {
     "name": "stdout",
     "output_type": "stream",
     "text": [
      " 23M\tdata/processed/page/category_pages\r\n",
      " 99M\tdata/processed/page/normal_pages\r\n",
      "122M\tdata/processed/page\r\n",
      "2.2G\tdata/processed/pagelinks\r\n",
      "493M\tdata/processed/categorylinks\r\n",
      "2.8G\tdata/processed\r\n"
     ]
    }
   ],
   "source": [
    "! du -h data/processed"
   ]
  },
  {
   "cell_type": "code",
   "execution_count": 29,
   "metadata": {},
   "outputs": [],
   "source": [
    "(\n",
    "    pagelinks\n",
    "    .repartitionByRange(8, \"from\", \"dest\")\n",
    "    .write.parquet(f\"{data_dir}/enwiki/pagelinks\", mode=\"overwrite\")\n",
    ")"
   ]
  },
  {
   "cell_type": "code",
   "execution_count": 30,
   "metadata": {},
   "outputs": [],
   "source": [
    "(\n",
    "    catlinks\n",
    "    .repartitionByRange(2, \"from\", \"dest\")\n",
    "    .write.parquet(f\"{data_dir}/enwiki/categorylinks\")\n",
    ")"
   ]
  },
  {
   "cell_type": "code",
   "execution_count": 31,
   "metadata": {},
   "outputs": [],
   "source": [
    "(\n",
    "    pages\n",
    "    .repartitionByRange(1, \"id\")\n",
    "    .write.parquet(f\"{data_dir}/enwiki/pages\")\n",
    ")"
   ]
  },
  {
   "cell_type": "code",
   "execution_count": 32,
   "metadata": {},
   "outputs": [],
   "source": [
    "(\n",
    "    catpages\n",
    "    .repartitionByRange(1, \"id\")\n",
    "    .write.parquet(f\"{data_dir}/enwiki/categorypages\")\n",
    ")"
   ]
  },
  {
   "cell_type": "code",
   "execution_count": 37,
   "metadata": {},
   "outputs": [
    {
     "name": "stdout",
     "output_type": "stream",
     "text": [
      "\u001b[01;34mdata/enwiki\u001b[00m\r\n",
      "├── [ 256]  \u001b[01;34mcategorylinks\u001b[00m\r\n",
      "│   ├── [   0]  _SUCCESS\r\n",
      "│   ├── [222M]  part-00000-5c4ff747-a7d2-48b6-8e21-e82a4b8840dd-c000.snappy.parquet\r\n",
      "│   └── [233M]  part-00001-5c4ff747-a7d2-48b6-8e21-e82a4b8840dd-c000.snappy.parquet\r\n",
      "├── [ 192]  \u001b[01;34mcategorypages\u001b[00m\r\n",
      "│   ├── [   0]  _SUCCESS\r\n",
      "│   └── [ 32M]  part-00000-e856fb1e-f22c-4c36-9ed1-5621bab499a9-c000.snappy.parquet\r\n",
      "├── [ 640]  \u001b[01;34mpagelinks\u001b[00m\r\n",
      "│   ├── [   0]  _SUCCESS\r\n",
      "│   ├── [248M]  part-00000-3255198c-5b01-46f9-9a29-0e7e6c3d24c1-c000.snappy.parquet\r\n",
      "│   ├── [231M]  part-00001-3255198c-5b01-46f9-9a29-0e7e6c3d24c1-c000.snappy.parquet\r\n",
      "│   ├── [245M]  part-00002-3255198c-5b01-46f9-9a29-0e7e6c3d24c1-c000.snappy.parquet\r\n",
      "│   ├── [247M]  part-00003-3255198c-5b01-46f9-9a29-0e7e6c3d24c1-c000.snappy.parquet\r\n",
      "│   ├── [248M]  part-00004-3255198c-5b01-46f9-9a29-0e7e6c3d24c1-c000.snappy.parquet\r\n",
      "│   ├── [247M]  part-00005-3255198c-5b01-46f9-9a29-0e7e6c3d24c1-c000.snappy.parquet\r\n",
      "│   ├── [251M]  part-00006-3255198c-5b01-46f9-9a29-0e7e6c3d24c1-c000.snappy.parquet\r\n",
      "│   └── [240M]  part-00007-3255198c-5b01-46f9-9a29-0e7e6c3d24c1-c000.snappy.parquet\r\n",
      "└── [ 192]  \u001b[01;34mpages\u001b[00m\r\n",
      "    ├── [   0]  _SUCCESS\r\n",
      "    └── [117M]  part-00000-210e029a-635e-4a0e-9f69-7e7d135072bd-c000.snappy.parquet\r\n",
      "\r\n",
      "4 directories, 16 files\r\n"
     ]
    }
   ],
   "source": [
    "! tree -h data/enwiki"
   ]
  }
 ],
 "metadata": {
  "kernelspec": {
   "display_name": "Python 3",
   "language": "python",
   "name": "python3"
  },
  "language_info": {
   "codemirror_mode": {
    "name": "ipython",
    "version": 3
   },
   "file_extension": ".py",
   "mimetype": "text/x-python",
   "name": "python",
   "nbconvert_exporter": "python",
   "pygments_lexer": "ipython3",
   "version": "3.6.7"
  }
 },
 "nbformat": 4,
 "nbformat_minor": 2
}
