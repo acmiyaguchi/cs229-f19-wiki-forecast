{
 "cells": [
  {
   "cell_type": "code",
   "execution_count": 3,
   "metadata": {},
   "outputs": [],
   "source": [
    "! mkdir -p ../data/laplacian/"
   ]
  },
  {
   "cell_type": "code",
   "execution_count": 1,
   "metadata": {},
   "outputs": [],
   "source": [
    "import pandas as pd\n",
    "import matplotlib.pyplot as plt\n",
    "import numpy as np\n",
    "import scipy.sparse as ss\n",
    "\n",
    "\n",
    "def sparse_matrix_from_edgelist(edges):\n",
    "    n = edges[\"dest\"].max()\n",
    "    ones = np.ones(len(edges[\"from\"]))\n",
    "    return ss.coo_matrix((ones, (edges[\"from\"], edges[\"dest\"])), shape=(n+1, n+1))\n",
    "    \n",
    "\n",
    "def laplacian_embedding(g, dim):\n",
    "    L = ss.csgraph.laplacian(g)\n",
    "    w, v = ss.linalg.eigsh(L, k=dim+1)\n",
    "    return np.divide(v, np.sqrt(w))[::-1][:,1:]"
   ]
  },
  {
   "cell_type": "code",
   "execution_count": 2,
   "metadata": {},
   "outputs": [],
   "source": [
    "edges = pd.read_parquet('../data/enwiki/pagelinks')\n",
    "g = sparse_matrix_from_edgelist(edges)"
   ]
  },
  {
   "cell_type": "code",
   "execution_count": 4,
   "metadata": {},
   "outputs": [
    {
     "name": "stdout",
     "output_type": "stream",
     "text": [
      "CPU times: user 1min 50s, sys: 1.32 s, total: 1min 51s\n",
      "Wall time: 1min 52s\n"
     ]
    }
   ],
   "source": [
    "%time ss.save_npz(\"../data/laplacian/pagelinks.npz\", g)"
   ]
  },
  {
   "cell_type": "code",
   "execution_count": 14,
   "metadata": {},
   "outputs": [
    {
     "name": "stdout",
     "output_type": "stream",
     "text": [
      "CPU times: user 10min 55s, sys: 57.4 s, total: 11min 52s\n",
      "Wall time: 7min 41s\n"
     ]
    }
   ],
   "source": [
    "%time emb = laplacian_embedding(g, 1)"
   ]
  },
  {
   "cell_type": "code",
   "execution_count": 20,
   "metadata": {},
   "outputs": [
    {
     "name": "stdout",
     "output_type": "stream",
     "text": [
      "CPU times: user 6min 31s, sys: 974 ms, total: 6min 32s\n",
      "Wall time: 6min 33s\n"
     ]
    }
   ],
   "source": [
    "%time np.savetxt(f\"../data/laplacian/emb_1.gz\", emb)"
   ]
  },
  {
   "cell_type": "code",
   "execution_count": 22,
   "metadata": {},
   "outputs": [
    {
     "name": "stdout",
     "output_type": "stream",
     "text": [
      "\u001b[01;34m../data/laplacian\u001b[00m\r\n",
      "├── [638M]  \u001b[01;31memb_1.gz\u001b[00m\r\n",
      "└── [1.5G]  pagelinks.npz\r\n",
      "\r\n",
      "0 directories, 2 files\r\n"
     ]
    }
   ],
   "source": [
    "! tree -h ../data/laplacian"
   ]
  },
  {
   "cell_type": "code",
   "execution_count": 23,
   "metadata": {},
   "outputs": [],
   "source": [
    "def run_test(g, k):\n",
    "    emb = laplacian_embedding(g, k)\n",
    "    np.savetxt(f\"../data/laplacian/emb_{k}.gz\", emb)\n",
    "    return emb"
   ]
  },
  {
   "cell_type": "code",
   "execution_count": 24,
   "metadata": {},
   "outputs": [
    {
     "name": "stdout",
     "output_type": "stream",
     "text": [
      "CPU times: user 31min 6s, sys: 1min 12s, total: 32min 18s\n",
      "Wall time: 24min 2s\n"
     ]
    },
    {
     "data": {
      "text/plain": [
       "array([[ 1.12383496e-14, -5.66814596e-15],\n",
       "       [ 3.80594743e-15, -2.34071284e-15],\n",
       "       [ 4.49678668e-15, -2.76558899e-15],\n",
       "       ...,\n",
       "       [ 7.14914958e-15, -4.39683062e-15],\n",
       "       [-1.74306009e-15,  1.07200722e-15],\n",
       "       [ 9.71373631e-15, -5.97408864e-15]])"
      ]
     },
     "execution_count": 24,
     "metadata": {},
     "output_type": "execute_result"
    }
   ],
   "source": [
    "%time run_test(g, 2)"
   ]
  },
  {
   "cell_type": "code",
   "execution_count": 25,
   "metadata": {},
   "outputs": [
    {
     "name": "stdout",
     "output_type": "stream",
     "text": [
      "CPU times: user 44min 54s, sys: 1min 23s, total: 46min 18s\n",
      "Wall time: 35min 58s\n"
     ]
    },
    {
     "data": {
      "text/plain": [
       "array([[ 8.09708331e-15,  2.34618574e-14,  4.67226450e-15,\n",
       "        -4.19850718e-15],\n",
       "       [ 1.70524025e-15, -7.04938928e-15, -2.39184747e-15,\n",
       "         2.08077054e-15],\n",
       "       [-9.88550327e-15,  4.08662421e-14,  1.38658561e-14,\n",
       "        -1.20625020e-14],\n",
       "       ...,\n",
       "       [-1.18396354e-14,  4.89445396e-14,  1.66068107e-14,\n",
       "        -1.44469757e-14],\n",
       "       [ 9.95332570e-15, -4.11466171e-14, -1.39609870e-14,\n",
       "         1.21452604e-14],\n",
       "       [ 2.98887147e-16, -1.23558651e-15, -4.19232695e-16,\n",
       "         3.64708474e-16]])"
      ]
     },
     "execution_count": 25,
     "metadata": {},
     "output_type": "execute_result"
    }
   ],
   "source": [
    "%time run_test(g, 4)"
   ]
  },
  {
   "cell_type": "code",
   "execution_count": 26,
   "metadata": {},
   "outputs": [
    {
     "name": "stdout",
     "output_type": "stream",
     "text": [
      "CPU times: user 1h 14min 2s, sys: 1min 38s, total: 1h 15min 41s\n",
      "Wall time: 1h 19s\n"
     ]
    },
    {
     "data": {
      "text/plain": [
       "array([[ 2.58733259e-14,  1.34176796e-14, -6.54439534e-14, ...,\n",
       "        -5.10325611e-16, -7.13704947e-16,  7.51289164e-15],\n",
       "       [-2.73411125e-15,  3.09393578e-15,  1.10286341e-15, ...,\n",
       "         2.18763309e-15, -5.68043398e-17,  1.45293272e-15],\n",
       "       [-5.21313345e-16,  5.89921133e-16,  2.10283108e-16, ...,\n",
       "         4.17116282e-16, -1.08308908e-17,  2.77030869e-16],\n",
       "       ...,\n",
       "       [ 1.34614694e-15, -1.52330749e-15, -5.42997727e-16, ...,\n",
       "        -1.07708696e-15,  2.79677676e-17, -7.15355282e-16],\n",
       "       [-2.71071381e-14,  3.06745910e-14,  1.09342554e-14, ...,\n",
       "         2.16891219e-14, -5.63182308e-16,  1.44049910e-14],\n",
       "       [ 1.50696998e-14, -1.70529576e-14, -6.07869210e-15, ...,\n",
       "        -1.20576563e-14,  3.13090533e-16, -8.00818178e-15]])"
      ]
     },
     "execution_count": 26,
     "metadata": {},
     "output_type": "execute_result"
    }
   ],
   "source": [
    "%time run_test(g, 8)"
   ]
  },
  {
   "cell_type": "code",
   "execution_count": 27,
   "metadata": {},
   "outputs": [
    {
     "name": "stdout",
     "output_type": "stream",
     "text": [
      "CPU times: user 2h 21min 59s, sys: 32min 48s, total: 2h 54min 48s\n",
      "Wall time: 2h 14min 59s\n"
     ]
    },
    {
     "data": {
      "text/plain": [
       "array([[-4.03404826e-14,  4.77209790e-14,  9.13477588e-14, ...,\n",
       "        -1.20514478e-15, -3.01123577e-14,  1.77961209e-14],\n",
       "       [ 6.56808935e-14, -2.96418294e-14, -1.88610746e-14, ...,\n",
       "         2.17239843e-14, -2.11093229e-14,  8.74395103e-15],\n",
       "       [-3.20441325e-15,  1.44615376e-15,  9.20186590e-16, ...,\n",
       "        -1.05986109e-15,  1.02987323e-15, -4.26596398e-16],\n",
       "       ...,\n",
       "       [-6.41376782e-14,  2.89453754e-14,  1.84179214e-14, ...,\n",
       "        -2.12135652e-14,  2.06133457e-14, -8.53850622e-15],\n",
       "       [-6.47735708e-14,  2.92323541e-14,  1.86005258e-14, ...,\n",
       "        -2.14238870e-14,  2.08177166e-14, -8.62316118e-15],\n",
       "       [-2.58278667e-14,  1.16561328e-14,  7.41678888e-15, ...,\n",
       "        -8.54257824e-15,  8.30087335e-15, -3.43840635e-15]])"
      ]
     },
     "execution_count": 27,
     "metadata": {},
     "output_type": "execute_result"
    }
   ],
   "source": [
    "%time run_test(g, 16)"
   ]
  },
  {
   "cell_type": "code",
   "execution_count": 28,
   "metadata": {},
   "outputs": [
    {
     "name": "stdout",
     "output_type": "stream",
     "text": [
      "\u001b[01;34m../data/laplacian\u001b[00m\r\n",
      "├── [638M]  \u001b[01;31memb_1.gz\u001b[00m\r\n",
      "├── [ 10G]  \u001b[01;31memb_16.gz\u001b[00m\r\n",
      "├── [1.3G]  \u001b[01;31memb_2.gz\u001b[00m\r\n",
      "├── [2.5G]  \u001b[01;31memb_4.gz\u001b[00m\r\n",
      "├── [5.1G]  \u001b[01;31memb_8.gz\u001b[00m\r\n",
      "└── [1.5G]  pagelinks.npz\r\n",
      "\r\n",
      "0 directories, 6 files\r\n"
     ]
    }
   ],
   "source": [
    "! tree -h ../data/laplacian"
   ]
  }
 ],
 "metadata": {
  "kernelspec": {
   "display_name": "Python 3",
   "language": "python",
   "name": "python3"
  },
  "language_info": {
   "codemirror_mode": {
    "name": "ipython",
    "version": 3
   },
   "file_extension": ".py",
   "mimetype": "text/x-python",
   "name": "python",
   "nbconvert_exporter": "python",
   "pygments_lexer": "ipython3",
   "version": "3.6.7"
  }
 },
 "nbformat": 4,
 "nbformat_minor": 2
}
