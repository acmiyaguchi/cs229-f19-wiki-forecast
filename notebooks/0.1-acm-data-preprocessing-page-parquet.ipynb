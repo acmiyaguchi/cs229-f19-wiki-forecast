{
 "cells": [
  {
   "cell_type": "code",
   "execution_count": 5,
   "metadata": {},
   "outputs": [
    {
     "name": "stdout",
     "output_type": "stream",
     "text": [
      " 23M\t../data/processed//page/category_pages\r\n",
      " 99M\t../data/processed//page/normal_pages\r\n",
      "122M\t../data/processed//page\r\n",
      "538M\t../data/processed//page_parquet\r\n",
      "2.2G\t../data/processed//pagelinks\r\n",
      "493M\t../data/processed//categorylinks\r\n",
      "3.4G\t../data/processed/\r\n"
     ]
    }
   ],
   "source": [
    "! du -h ../data/processed/"
   ]
  },
  {
   "cell_type": "code",
   "execution_count": 8,
   "metadata": {},
   "outputs": [
    {
     "name": "stdout",
     "output_type": "stream",
     "text": [
      "root\n",
      " |-- id: integer (nullable = true)\n",
      " |-- namespace: integer (nullable = true)\n",
      " |-- title: string (nullable = true)\n",
      " |-- restriction: string (nullable = true)\n",
      " |-- isRedirect: boolean (nullable = true)\n",
      " |-- isNew: boolean (nullable = true)\n",
      " |-- random: double (nullable = true)\n",
      " |-- touched: timestamp (nullable = true)\n",
      " |-- linksUpdated: string (nullable = true)\n",
      " |-- latest: integer (nullable = true)\n",
      " |-- len: integer (nullable = true)\n",
      " |-- contentModel: string (nullable = true)\n",
      " |-- lang: string (nullable = true)\n",
      "\n",
      "-RECORD 0----------------------------\n",
      " id           | 10                   \n",
      " namespace    | 0                    \n",
      " title        | AccessibleComputing  \n",
      " restriction  |                      \n",
      " isRedirect   | true                 \n",
      " isNew        | false                \n",
      " random       | 0.33167112649574004  \n",
      " touched      | 2019-07-28 22:03:05  \n",
      " linksUpdated | '20190105021557'     \n",
      " latest       | 854851586            \n",
      " len          | 94                   \n",
      " contentModel | 'wikitext'           \n",
      " lang         | NULL                 \n",
      "-RECORD 1----------------------------\n",
      " id           | 12                   \n",
      " namespace    | 0                    \n",
      " title        | Anarchism            \n",
      " restriction  |                      \n",
      " isRedirect   | false                \n",
      " isNew        | false                \n",
      " random       | 0.786172332974311    \n",
      " touched      | 2019-08-19 22:24:41  \n",
      " linksUpdated | '20190820093047'     \n",
      " latest       | 911599054            \n",
      " len          | 104642               \n",
      " contentModel | 'wikitext'           \n",
      " lang         | NULL                 \n",
      "-RECORD 2----------------------------\n",
      " id           | 13                   \n",
      " namespace    | 0                    \n",
      " title        | AfghanistanHistory   \n",
      " restriction  |                      \n",
      " isRedirect   | true                 \n",
      " isNew        | false                \n",
      " random       | 0.0621502865684687   \n",
      " touched      | 2019-08-09 23:32:09  \n",
      " linksUpdated | '20190618192734'     \n",
      " latest       | 783865149            \n",
      " len          | 90                   \n",
      " contentModel | 'wikitext'           \n",
      " lang         | NULL                 \n",
      "-RECORD 3----------------------------\n",
      " id           | 14                   \n",
      " namespace    | 0                    \n",
      " title        | AfghanistanGeography \n",
      " restriction  |                      \n",
      " isRedirect   | true                 \n",
      " isNew        | false                \n",
      " random       | 0.952234464653055    \n",
      " touched      | 2019-06-27 11:49:22  \n",
      " linksUpdated | '20190618192734'     \n",
      " latest       | 783865160            \n",
      " len          | 92                   \n",
      " contentModel | 'wikitext'           \n",
      " lang         | NULL                 \n",
      "-RECORD 4----------------------------\n",
      " id           | 15                   \n",
      " namespace    | 0                    \n",
      " title        | AfghanistanPeople    \n",
      " restriction  |                      \n",
      " isRedirect   | true                 \n",
      " isNew        | false                \n",
      " random       | 0.574721494293512    \n",
      " touched      | 2019-08-15 22:54:54  \n",
      " linksUpdated | '20190618192734'     \n",
      " latest       | 783865293            \n",
      " len          | 95                   \n",
      " contentModel | 'wikitext'           \n",
      " lang         | NULL                 \n",
      "only showing top 5 rows\n",
      "\n"
     ]
    }
   ],
   "source": [
    "from pyspark.sql import SparkSession\n",
    "\n",
    "spark = SparkSession.builder.getOrCreate()\n",
    "\n",
    "page = spark.read.parquet(\"../data/processed/page_parquet\")\n",
    "page.printSchema()\n",
    "\n",
    "page.show(vertical=True, n=5)"
   ]
  },
  {
   "cell_type": "code",
   "execution_count": 15,
   "metadata": {},
   "outputs": [],
   "source": [
    "page.repartitionByRange(4, \"id\").write.parquet(\"../data/enwiki/page_parquet\", mode=\"overwrite\")"
   ]
  },
  {
   "cell_type": "code",
   "execution_count": 16,
   "metadata": {},
   "outputs": [
    {
     "name": "stdout",
     "output_type": "stream",
     "text": [
      "\u001b[01;34m../data/enwiki/page_parquet\u001b[00m\r\n",
      "├── [   0]  _SUCCESS\r\n",
      "├── [179M]  part-00000-e97ee0ca-9896-4efe-88a7-8cf2080e6443-c000.snappy.parquet\r\n",
      "├── [175M]  part-00001-e97ee0ca-9896-4efe-88a7-8cf2080e6443-c000.snappy.parquet\r\n",
      "├── [181M]  part-00002-e97ee0ca-9896-4efe-88a7-8cf2080e6443-c000.snappy.parquet\r\n",
      "└── [182M]  part-00003-e97ee0ca-9896-4efe-88a7-8cf2080e6443-c000.snappy.parquet\r\n",
      "\r\n",
      "0 directories, 5 files\r\n"
     ]
    }
   ],
   "source": [
    "! tree -h ../data/enwiki/page_parquet"
   ]
  }
 ],
 "metadata": {
  "kernelspec": {
   "display_name": "Python 3",
   "language": "python",
   "name": "python3"
  },
  "language_info": {
   "codemirror_mode": {
    "name": "ipython",
    "version": 3
   },
   "file_extension": ".py",
   "mimetype": "text/x-python",
   "name": "python",
   "nbconvert_exporter": "python",
   "pygments_lexer": "ipython3",
   "version": "3.6.7"
  }
 },
 "nbformat": 4,
 "nbformat_minor": 2
}
