{
 "cells": [
  {
   "cell_type": "code",
   "execution_count": 18,
   "metadata": {},
   "outputs": [
    {
     "name": "stdout",
     "output_type": "stream",
     "text": [
      "\u001b[01;34m../data/laplacian\u001b[00m\r\n",
      "├── [638M]  \u001b[01;31memb_1.gz\u001b[00m\r\n",
      "├── [ 10G]  \u001b[01;31memb_16.gz\u001b[00m\r\n",
      "├── [1.3G]  \u001b[01;31memb_2.gz\u001b[00m\r\n",
      "├── [2.5G]  \u001b[01;31memb_4.gz\u001b[00m\r\n",
      "├── [5.1G]  \u001b[01;31memb_8.gz\u001b[00m\r\n",
      "└── [1.5G]  pagelinks.npz\r\n",
      "\r\n",
      "0 directories, 6 files\r\n"
     ]
    }
   ],
   "source": [
    "! tree -h ../data/laplacian"
   ]
  },
  {
   "cell_type": "code",
   "execution_count": 4,
   "metadata": {},
   "outputs": [],
   "source": [
    "import numpy as np\n",
    "import matplotlib as plt\n",
    "\n",
    "emb = np.loadtxt(\"../data/laplacian/emb_2.gz\")"
   ]
  },
  {
   "cell_type": "code",
   "execution_count": 19,
   "metadata": {},
   "outputs": [],
   "source": [
    "import pandas as pd\n",
    "mapping = pd.read_parquet(\"../data/enwiki/pages\")"
   ]
  },
  {
   "cell_type": "code",
   "execution_count": 31,
   "metadata": {},
   "outputs": [],
   "source": [
    "fixed = emb[sorted(mapping.id)[:-100],:]"
   ]
  },
  {
   "cell_type": "code",
   "execution_count": 56,
   "metadata": {},
   "outputs": [
    {
     "data": {
      "image/png": "[encoded data removed]",
      "text/plain": [
       "<Figure size 432x288 with 1 Axes>"
      ]
     },
     "metadata": {
      "needs_background": "light"
     },
     "output_type": "display_data"
    }
   ],
   "source": [
    "import matplotlib.pyplot as plt\n",
    "\n",
    "fig, ax = plt.subplots()\n",
    "x, y = fixed[:,0], fixed[:,1]\n",
    "ax.scatter(x, y)\n",
    "\n",
    "dy = (max(y) - min(y))*0.1\n",
    "ax.set_ylim(min(y)-dy, max(y)+dy)\n",
    "dx = (max(x) - min(x))*0.1\n",
    "ax.set_xlim(min(x)-dx, max(x)+dx)\n",
    "plt.show()"
   ]
  }
 ],
 "metadata": {
  "kernelspec": {
   "display_name": "Python 3",
   "language": "python",
   "name": "python3"
  },
  "language_info": {
   "codemirror_mode": {
    "name": "ipython",
    "version": 3
   },
   "file_extension": ".py",
   "mimetype": "text/x-python",
   "name": "python",
   "nbconvert_exporter": "python",
   "pygments_lexer": "ipython3",
   "version": "3.6.7"
  }
 },
 "nbformat": 4,
 "nbformat_minor": 2
}
