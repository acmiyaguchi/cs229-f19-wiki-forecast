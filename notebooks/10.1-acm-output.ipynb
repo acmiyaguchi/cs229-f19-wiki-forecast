{
 "cells": [
  {
   "cell_type": "code",
   "execution_count": 1,
   "metadata": {},
   "outputs": [
    {
     "name": "stdout",
     "output_type": "stream",
     "text": [
      "Processing /Users/amiyaguchi/Research/wiki-forecast\n",
      "Requirement already satisfied: click in /Users/amiyaguchi/.local/share/virtualenvs/wiki-forecast-HU65IRGn/lib/python3.6/site-packages (from wiki-forecast==0.3.2) (7.0)\n",
      "Requirement already satisfied: pyspark>=2.4.0 in /Users/amiyaguchi/.local/share/virtualenvs/wiki-forecast-HU65IRGn/lib/python3.6/site-packages (from wiki-forecast==0.3.2) (2.4.4)\n",
      "Requirement already satisfied: networkx in /Users/amiyaguchi/.local/share/virtualenvs/wiki-forecast-HU65IRGn/lib/python3.6/site-packages (from wiki-forecast==0.3.2) (2.3)\n",
      "Requirement already satisfied: matplotlib in /Users/amiyaguchi/.local/share/virtualenvs/wiki-forecast-HU65IRGn/lib/python3.6/site-packages (from wiki-forecast==0.3.2) (3.1.1)\n",
      "Requirement already satisfied: pandas in /Users/amiyaguchi/.local/share/virtualenvs/wiki-forecast-HU65IRGn/lib/python3.6/site-packages (from wiki-forecast==0.3.2) (0.25.1)\n",
      "Requirement already satisfied: graphframes in /Users/amiyaguchi/.local/share/virtualenvs/wiki-forecast-HU65IRGn/lib/python3.6/site-packages (from wiki-forecast==0.3.2) (0.6)\n",
      "Requirement already satisfied: py4j==0.10.7 in /Users/amiyaguchi/.local/share/virtualenvs/wiki-forecast-HU65IRGn/lib/python3.6/site-packages (from pyspark>=2.4.0->wiki-forecast==0.3.2) (0.10.7)\n",
      "Requirement already satisfied: decorator>=4.3.0 in /Users/amiyaguchi/.local/share/virtualenvs/wiki-forecast-HU65IRGn/lib/python3.6/site-packages (from networkx->wiki-forecast==0.3.2) (4.4.0)\n",
      "Requirement already satisfied: numpy>=1.11 in /Users/amiyaguchi/.local/share/virtualenvs/wiki-forecast-HU65IRGn/lib/python3.6/site-packages (from matplotlib->wiki-forecast==0.3.2) (1.17.2)\n",
      "Requirement already satisfied: python-dateutil>=2.1 in /Users/amiyaguchi/.local/share/virtualenvs/wiki-forecast-HU65IRGn/lib/python3.6/site-packages (from matplotlib->wiki-forecast==0.3.2) (2.8.0)\n",
      "Requirement already satisfied: pyparsing!=2.0.4,!=2.1.2,!=2.1.6,>=2.0.1 in /Users/amiyaguchi/.local/share/virtualenvs/wiki-forecast-HU65IRGn/lib/python3.6/site-packages (from matplotlib->wiki-forecast==0.3.2) (2.4.2)\n",
      "Requirement already satisfied: kiwisolver>=1.0.1 in /Users/amiyaguchi/.local/share/virtualenvs/wiki-forecast-HU65IRGn/lib/python3.6/site-packages (from matplotlib->wiki-forecast==0.3.2) (1.1.0)\n",
      "Requirement already satisfied: cycler>=0.10 in /Users/amiyaguchi/.local/share/virtualenvs/wiki-forecast-HU65IRGn/lib/python3.6/site-packages (from matplotlib->wiki-forecast==0.3.2) (0.10.0)\n",
      "Requirement already satisfied: pytz>=2017.2 in /Users/amiyaguchi/.local/share/virtualenvs/wiki-forecast-HU65IRGn/lib/python3.6/site-packages (from pandas->wiki-forecast==0.3.2) (2019.2)\n",
      "Requirement already satisfied: nose in /Users/amiyaguchi/.local/share/virtualenvs/wiki-forecast-HU65IRGn/lib/python3.6/site-packages (from graphframes->wiki-forecast==0.3.2) (1.3.7)\n",
      "Requirement already satisfied: six>=1.5 in /Users/amiyaguchi/.local/share/virtualenvs/wiki-forecast-HU65IRGn/lib/python3.6/site-packages (from python-dateutil>=2.1->matplotlib->wiki-forecast==0.3.2) (1.12.0)\n",
      "Requirement already satisfied: setuptools in /Users/amiyaguchi/.local/share/virtualenvs/wiki-forecast-HU65IRGn/lib/python3.6/site-packages (from kiwisolver>=1.0.1->matplotlib->wiki-forecast==0.3.2) (41.2.0)\n",
      "Building wheels for collected packages: wiki-forecast\n",
      "  Building wheel for wiki-forecast (setup.py) ... \u001b[?25ldone\n",
      "\u001b[?25h  Created wheel for wiki-forecast: filename=wiki_forecast-0.3.2-cp36-none-any.whl size=19395 sha256=f77cbb37bedb4620fac1e9f963f70daff2f964cac417d72e020e6ba53445083f\n",
      "  Stored in directory: /Users/amiyaguchi/Library/Caches/pip/wheels/4f/a1/40/0ace60fd57f0bb1ff87e264f714aa5255c9d115906476a9f13\n",
      "Successfully built wiki-forecast\n",
      "Installing collected packages: wiki-forecast\n",
      "  Found existing installation: wiki-forecast 0.3.2\n",
      "    Uninstalling wiki-forecast-0.3.2:\n",
      "      Successfully uninstalled wiki-forecast-0.3.2\n",
      "Successfully installed wiki-forecast-0.3.2\n"
     ]
    }
   ],
   "source": [
    "! pip install .."
   ]
  },
  {
   "cell_type": "code",
   "execution_count": 76,
   "metadata": {},
   "outputs": [
    {
     "name": "stdout",
     "output_type": "stream",
     "text": [
      "\u001b[01;34m../data/clustered/sample_2_8_50\u001b[00m\r\n",
      "├── [   0]  _SUCCESS\r\n",
      "├── [ 61M]  part-00000-da9ff087-c6ae-4dad-b9bd-d796a7ac0c15-c000.snappy.parquet\r\n",
      "├── [ 61M]  part-00001-da9ff087-c6ae-4dad-b9bd-d796a7ac0c15-c000.snappy.parquet\r\n",
      "├── [ 61M]  part-00002-da9ff087-c6ae-4dad-b9bd-d796a7ac0c15-c000.snappy.parquet\r\n",
      "└── [ 61M]  part-00003-da9ff087-c6ae-4dad-b9bd-d796a7ac0c15-c000.snappy.parquet\r\n",
      "\r\n",
      "0 directories, 5 files\r\n"
     ]
    }
   ],
   "source": [
    "!tree -h ../data/clustered/sample_2_8_50"
   ]
  },
  {
   "cell_type": "code",
   "execution_count": 36,
   "metadata": {
    "scrolled": true
   },
   "outputs": [
    {
     "name": "stdout",
     "output_type": "stream",
     "text": [
      "root\n",
      " |-- id: integer (nullable = true)\n",
      " |-- bias: boolean (nullable = true)\n",
      " |-- sign_0: boolean (nullable = true)\n",
      " |-- sign_1: boolean (nullable = true)\n",
      " |-- sign_2: boolean (nullable = true)\n",
      " |-- sign_3: boolean (nullable = true)\n",
      " |-- sign_4: boolean (nullable = true)\n",
      " |-- sign_5: boolean (nullable = true)\n",
      " |-- sign_6: boolean (nullable = true)\n",
      " |-- title: string (nullable = true)\n",
      " |-- is_redirect: boolean (nullable = true)\n",
      " |-- is_new: boolean (nullable = true)\n",
      " |-- fiedler_0: double (nullable = true)\n",
      " |-- fiedler_1: double (nullable = true)\n",
      " |-- fiedler_2: double (nullable = true)\n",
      " |-- fiedler_3: double (nullable = true)\n",
      " |-- fiedler_4: double (nullable = true)\n",
      " |-- fiedler_5: double (nullable = true)\n",
      " |-- fiedler_6: double (nullable = true)\n",
      " |-- fiedler_7: double (nullable = true)\n",
      " |-- sign_7: boolean (nullable = true)\n",
      "\n",
      "root\n",
      " |-- from: integer (nullable = true)\n",
      " |-- dest: integer (nullable = true)\n",
      "\n",
      "graph has 2936436 articles and 52893186 hyperlinks\n",
      "-RECORD 0----------------------------\n",
      " id           | 12                   \n",
      " bias         | true                 \n",
      " sign_0       | false                \n",
      " sign_1       | false                \n",
      " sign_2       | true                 \n",
      " sign_3       | false                \n",
      " sign_4       | false                \n",
      " sign_5       | false                \n",
      " sign_6       | false                \n",
      " title        | Agricultural_science \n",
      " is_redirect  | false                \n",
      " is_new       | false                \n",
      " fiedler_0    | -1.83298831342705... \n",
      " fiedler_1    | -6.39406017715894... \n",
      " fiedler_2    | 1.480851908475792... \n",
      " fiedler_3    | -4.17936474134701... \n",
      " fiedler_4    | -2.09565055739335... \n",
      " fiedler_5    | -8.33324575027700... \n",
      " fiedler_6    | -9.31626502565579... \n",
      " fiedler_7    | -1.36551920482898... \n",
      " sign_7       | false                \n",
      " relabeled_id | 12                   \n",
      "only showing top 1 row\n",
      "\n"
     ]
    },
    {
     "data": {
      "text/plain": [
       "DataFrame[id: int, title: string, partition_id: string, degree: int, inDegree: int, outDegree: int, sign_0: boolean, sign_1: boolean, sign_2: boolean, sign_3: boolean, sign_4: boolean, sign_5: boolean, sign_6: boolean, sign_7: boolean, fiedler_0: double, fiedler_1: double, fiedler_2: double, fiedler_3: double, fiedler_4: double, fiedler_5: double, fiedler_6: double, fiedler_7: double, 2018-01-01: bigint, 2018-01-02: bigint, 2018-01-03: bigint, 2018-01-04: bigint, 2018-01-05: bigint, 2018-01-06: bigint, 2018-01-07: bigint, 2018-01-08: bigint, 2018-01-09: bigint, 2018-01-10: bigint, 2018-01-11: bigint, 2018-01-12: bigint, 2018-01-13: bigint, 2018-01-14: bigint, 2018-01-15: bigint, 2018-01-16: bigint, 2018-01-17: bigint, 2018-01-18: bigint, 2018-01-19: bigint, 2018-01-20: bigint, 2018-01-21: bigint, 2018-01-22: bigint, 2018-01-23: bigint, 2018-01-24: bigint, 2018-01-25: bigint, 2018-01-26: bigint, 2018-01-27: bigint, 2018-01-28: bigint, 2018-01-29: bigint, 2018-01-30: bigint, 2018-01-31: bigint, 2018-02-01: bigint, 2018-02-02: bigint, 2018-02-03: bigint, 2018-02-04: bigint, 2018-02-05: bigint, 2018-02-06: bigint, 2018-02-07: bigint, 2018-02-08: bigint, 2018-02-09: bigint, 2018-02-10: bigint, 2018-02-11: bigint, 2018-02-12: bigint, 2018-02-13: bigint, 2018-02-14: bigint, 2018-02-15: bigint, 2018-02-16: bigint, 2018-02-17: bigint, 2018-02-18: bigint, 2018-02-19: bigint, 2018-02-20: bigint, 2018-02-21: bigint, 2018-02-22: bigint, 2018-02-23: bigint, 2018-02-24: bigint, 2018-02-25: bigint, 2018-02-26: bigint, 2018-02-27: bigint, 2018-02-28: bigint, 2018-03-01: bigint, 2018-03-02: bigint, 2018-03-03: bigint, 2018-03-04: bigint, 2018-03-05: bigint, 2018-03-06: bigint, 2018-03-07: bigint, 2018-03-08: bigint, 2018-03-09: bigint, 2018-03-10: bigint, 2018-03-11: bigint, 2018-03-12: bigint, 2018-03-13: bigint, 2018-03-14: bigint, 2018-03-15: bigint, 2018-03-16: bigint, 2018-03-17: bigint, 2018-03-18: bigint, 2018-03-19: bigint, 2018-03-20: bigint, 2018-03-21: bigint, 2018-03-22: bigint, 2018-03-23: bigint, 2018-03-24: bigint, 2018-03-25: bigint, 2018-03-26: bigint, 2018-03-27: bigint, 2018-03-28: bigint, 2018-03-29: bigint, 2018-03-30: bigint, 2018-03-31: bigint, 2018-04-01: bigint, 2018-04-02: bigint, 2018-04-03: bigint, 2018-04-04: bigint, 2018-04-05: bigint, 2018-04-06: bigint, 2018-04-07: bigint, 2018-04-08: bigint, 2018-04-09: bigint, 2018-04-10: bigint, 2018-04-11: bigint, 2018-04-12: bigint, 2018-04-13: bigint, 2018-04-14: bigint, 2018-04-15: bigint, 2018-04-16: bigint, 2018-04-17: bigint, 2018-04-18: bigint, 2018-04-19: bigint, 2018-04-20: bigint, 2018-04-21: bigint, 2018-04-22: bigint, 2018-04-23: bigint, 2018-04-24: bigint, 2018-04-25: bigint, 2018-04-26: bigint, 2018-04-27: bigint, 2018-04-28: bigint, 2018-04-29: bigint, 2018-04-30: bigint, 2018-05-01: bigint, 2018-05-02: bigint, 2018-05-03: bigint, 2018-05-04: bigint, 2018-05-05: bigint, 2018-05-06: bigint, 2018-05-07: bigint, 2018-05-08: bigint, 2018-05-09: bigint, 2018-05-10: bigint, 2018-05-11: bigint, 2018-05-12: bigint, 2018-05-13: bigint, 2018-05-14: bigint, 2018-05-15: bigint, 2018-05-16: bigint, 2018-05-17: bigint, 2018-05-18: bigint, 2018-05-19: bigint, 2018-05-20: bigint, 2018-05-21: bigint, 2018-05-22: bigint, 2018-05-23: bigint, 2018-05-24: bigint, 2018-05-25: bigint, 2018-05-26: bigint, 2018-05-27: bigint, 2018-05-28: bigint, 2018-05-29: bigint, 2018-05-30: bigint, 2018-05-31: bigint, 2018-06-01: bigint, 2018-06-02: bigint, 2018-06-03: bigint, 2018-06-04: bigint, 2018-06-05: bigint, 2018-06-06: bigint, 2018-06-07: bigint, 2018-06-08: bigint, 2018-06-09: bigint, 2018-06-10: bigint, 2018-06-11: bigint, 2018-06-12: bigint, 2018-06-13: bigint, 2018-06-14: int, 2018-06-15: bigint, 2018-06-16: bigint, 2018-06-17: bigint, 2018-06-18: bigint, 2018-06-19: bigint, 2018-06-20: bigint, 2018-06-21: bigint, 2018-06-22: bigint, 2018-06-23: bigint, 2018-06-24: bigint, 2018-06-25: bigint, 2018-06-26: bigint, 2018-06-27: bigint, 2018-06-28: bigint, 2018-06-29: bigint, 2018-06-30: bigint, 2018-07-01: bigint, 2018-07-02: bigint, 2018-07-03: bigint, 2018-07-04: bigint, 2018-07-05: bigint, 2018-07-06: bigint, 2018-07-07: bigint, 2018-07-08: bigint, 2018-07-09: bigint, 2018-07-10: bigint, 2018-07-11: bigint, 2018-07-12: bigint, 2018-07-13: bigint, 2018-07-14: bigint, 2018-07-15: bigint, 2018-07-16: bigint, 2018-07-17: bigint, 2018-07-18: bigint, 2018-07-19: bigint, 2018-07-20: bigint, 2018-07-21: bigint, 2018-07-22: bigint, 2018-07-23: bigint, 2018-07-24: bigint, 2018-07-25: bigint, 2018-07-26: bigint, 2018-07-27: bigint, 2018-07-28: bigint, 2018-07-29: bigint, 2018-07-30: bigint, 2018-07-31: bigint, 2018-08-01: bigint, 2018-08-02: bigint, 2018-08-03: bigint, 2018-08-04: bigint, 2018-08-05: bigint, 2018-08-06: bigint, 2018-08-07: bigint, 2018-08-08: bigint, 2018-08-09: bigint, 2018-08-10: bigint, 2018-08-11: bigint, 2018-08-12: bigint, 2018-08-13: bigint, 2018-08-14: bigint, 2018-08-15: bigint, 2018-08-16: bigint, 2018-08-17: bigint, 2018-08-18: bigint, 2018-08-19: bigint, 2018-08-20: bigint, 2018-08-21: bigint, 2018-08-22: bigint, 2018-08-23: bigint, 2018-08-24: bigint, 2018-08-25: bigint, 2018-08-26: bigint, 2018-08-27: bigint, 2018-08-28: bigint, 2018-08-29: bigint, 2018-08-30: bigint, 2018-08-31: bigint, 2018-09-01: bigint, 2018-09-02: bigint, 2018-09-03: bigint, 2018-09-04: bigint, 2018-09-05: bigint, 2018-09-06: bigint, 2018-09-07: bigint, 2018-09-08: bigint, 2018-09-09: bigint, 2018-09-10: bigint, 2018-09-11: bigint, 2018-09-12: bigint, 2018-09-13: bigint, 2018-09-14: bigint, 2018-09-15: bigint, 2018-09-16: bigint, 2018-09-17: bigint, 2018-09-18: bigint, 2018-09-19: bigint, 2018-09-20: bigint, 2018-09-21: bigint, 2018-09-22: bigint, 2018-09-23: bigint, 2018-09-24: bigint, 2018-09-25: bigint, 2018-09-26: bigint, 2018-09-27: bigint, 2018-09-28: bigint, 2018-09-29: bigint, 2018-09-30: bigint, 2018-10-01: bigint, 2018-10-02: bigint, 2018-10-03: bigint, 2018-10-04: bigint, 2018-10-05: bigint, 2018-10-06: bigint, 2018-10-07: bigint, 2018-10-08: bigint, 2018-10-09: bigint, 2018-10-10: bigint, 2018-10-11: bigint, 2018-10-12: bigint, 2018-10-13: bigint, 2018-10-14: bigint, 2018-10-15: bigint, 2018-10-16: bigint, 2018-10-17: bigint, 2018-10-18: bigint, 2018-10-19: bigint, 2018-10-20: bigint, 2018-10-21: bigint, 2018-10-22: bigint, 2018-10-23: bigint, 2018-10-24: bigint, 2018-10-25: bigint, 2018-10-26: bigint, 2018-10-27: bigint, 2018-10-28: bigint, 2018-10-29: bigint, 2018-10-30: bigint, 2018-10-31: bigint, 2018-11-01: bigint, 2018-11-02: bigint, 2018-11-03: bigint, 2018-11-04: bigint, 2018-11-05: bigint, 2018-11-06: bigint, 2018-11-07: bigint, 2018-11-08: bigint, 2018-11-09: bigint, 2018-11-10: bigint, 2018-11-11: bigint, 2018-11-12: bigint, 2018-11-13: bigint, 2018-11-14: bigint, 2018-11-15: bigint, 2018-11-16: bigint, 2018-11-17: bigint, 2018-11-18: bigint, 2018-11-19: bigint, 2018-11-20: bigint, 2018-11-21: bigint, 2018-11-22: bigint, 2018-11-23: bigint, 2018-11-24: bigint, 2018-11-25: bigint, 2018-11-26: bigint, 2018-11-27: bigint, 2018-11-28: bigint, 2018-11-29: bigint, 2018-11-30: bigint, 2018-12-01: bigint, 2018-12-02: bigint, 2018-12-03: bigint, 2018-12-04: bigint, 2018-12-05: bigint, 2018-12-06: bigint, 2018-12-07: bigint, 2018-12-08: bigint, 2018-12-09: bigint, 2018-12-10: bigint, 2018-12-11: bigint, 2018-12-12: bigint, 2018-12-13: bigint, 2018-12-14: bigint, 2018-12-15: bigint, 2018-12-16: bigint, 2018-12-17: bigint, 2018-12-18: bigint, 2018-12-19: bigint, 2018-12-20: bigint, 2018-12-21: bigint, 2018-12-22: bigint, 2018-12-23: bigint, 2018-12-24: bigint, 2018-12-25: bigint, 2018-12-26: bigint, 2018-12-27: bigint, 2018-12-28: bigint, 2018-12-29: bigint, 2018-12-30: bigint, 2018-12-31: bigint, 2019-01-01: bigint, 2019-01-02: bigint, 2019-01-03: bigint, 2019-01-04: bigint, 2019-01-05: bigint, 2019-01-06: bigint, 2019-01-07: bigint, 2019-01-08: bigint, 2019-01-09: bigint, 2019-01-10: bigint, 2019-01-11: bigint, 2019-01-12: bigint, 2019-01-13: bigint, 2019-01-14: bigint, 2019-01-15: bigint, 2019-01-16: bigint, 2019-01-17: bigint, 2019-01-18: bigint, 2019-01-19: bigint, 2019-01-20: bigint, 2019-01-21: bigint, 2019-01-22: bigint, 2019-01-23: bigint, 2019-01-24: bigint, 2019-01-25: bigint, 2019-01-26: bigint, 2019-01-27: bigint, 2019-01-28: bigint, 2019-01-29: bigint, 2019-01-30: bigint, 2019-01-31: bigint, 2019-02-01: bigint, 2019-02-02: bigint, 2019-02-03: bigint, 2019-02-04: bigint, 2019-02-05: bigint, 2019-02-06: bigint, 2019-02-07: bigint, 2019-02-08: bigint, 2019-02-09: bigint, 2019-02-10: bigint, 2019-02-11: bigint, 2019-02-12: bigint, 2019-02-13: bigint, 2019-02-14: bigint, 2019-02-15: bigint, 2019-02-16: bigint, 2019-02-17: bigint, 2019-02-18: bigint, 2019-02-19: bigint, 2019-02-20: bigint, 2019-02-21: bigint, 2019-02-22: bigint, 2019-02-23: bigint, 2019-02-24: bigint, 2019-02-25: bigint, 2019-02-26: bigint, 2019-02-27: bigint, 2019-02-28: bigint, 2019-03-01: bigint, 2019-03-02: bigint, 2019-03-03: bigint, 2019-03-04: bigint, 2019-03-05: bigint, 2019-03-06: bigint, 2019-03-07: bigint, 2019-03-08: bigint, 2019-03-09: bigint, 2019-03-10: bigint, 2019-03-11: bigint, 2019-03-12: bigint, 2019-03-13: bigint, 2019-03-14: bigint, 2019-03-15: bigint, 2019-03-16: bigint, 2019-03-17: bigint, 2019-03-18: bigint, 2019-03-19: bigint, 2019-03-20: bigint, 2019-03-21: bigint, 2019-03-22: bigint, 2019-03-23: bigint, 2019-03-24: bigint, 2019-03-25: bigint, 2019-03-26: bigint, 2019-03-27: bigint, 2019-03-28: bigint, 2019-03-29: bigint, 2019-03-30: bigint, 2019-03-31: bigint, 2019-04-01: bigint, 2019-04-02: bigint, 2019-04-03: bigint, 2019-04-04: bigint, 2019-04-05: bigint, 2019-04-06: bigint, 2019-04-07: bigint, 2019-04-08: bigint, 2019-04-09: bigint, 2019-04-10: bigint, 2019-04-11: bigint, 2019-04-12: bigint, 2019-04-13: bigint, 2019-04-14: bigint, 2019-04-15: bigint, 2019-04-16: bigint, 2019-04-17: bigint, 2019-04-18: bigint, 2019-04-19: bigint, 2019-04-20: bigint, 2019-04-21: bigint, 2019-04-22: bigint, 2019-04-23: bigint, 2019-04-24: bigint, 2019-04-25: bigint, 2019-04-26: bigint, 2019-04-27: bigint, 2019-04-28: bigint, 2019-04-29: bigint, 2019-04-30: bigint, 2019-05-01: bigint, 2019-05-02: bigint, 2019-05-03: bigint, 2019-05-04: bigint, 2019-05-05: bigint, 2019-05-06: bigint, 2019-05-07: bigint, 2019-05-08: bigint, 2019-05-09: bigint, 2019-05-10: bigint, 2019-05-11: bigint, 2019-05-12: bigint, 2019-05-13: bigint, 2019-05-14: bigint, 2019-05-15: bigint, 2019-05-16: bigint, 2019-05-17: bigint, 2019-05-18: bigint, 2019-05-19: bigint, 2019-05-20: bigint, 2019-05-21: bigint, 2019-05-22: bigint, 2019-05-23: bigint, 2019-05-24: bigint, 2019-05-25: bigint, 2019-05-26: bigint, 2019-05-27: bigint, 2019-05-28: bigint, 2019-05-29: bigint, 2019-05-30: bigint, 2019-05-31: bigint, 2019-06-01: bigint, 2019-06-02: bigint, 2019-06-03: bigint, 2019-06-04: bigint, 2019-06-05: bigint, 2019-06-06: bigint, 2019-06-07: bigint, 2019-06-08: bigint, 2019-06-09: bigint, 2019-06-10: bigint, 2019-06-11: bigint, 2019-06-12: bigint, 2019-06-13: bigint, 2019-06-14: bigint, 2019-06-15: bigint, 2019-06-16: bigint, 2019-06-17: bigint, 2019-06-18: bigint, 2019-06-19: bigint, 2019-06-20: bigint, 2019-06-21: bigint, 2019-06-22: bigint, 2019-06-23: bigint, 2019-06-24: bigint, 2019-06-25: bigint, 2019-06-26: bigint, 2019-06-27: bigint, 2019-06-28: bigint, 2019-06-29: bigint, 2019-06-30: bigint, 2019-07-01: bigint, 2019-07-02: bigint, 2019-07-03: bigint, 2019-07-04: bigint, 2019-07-05: bigint, 2019-07-06: bigint, 2019-07-07: bigint, 2019-07-08: bigint, 2019-07-09: bigint, 2019-07-10: bigint, 2019-07-11: bigint, 2019-07-12: bigint, 2019-07-13: bigint, 2019-07-14: bigint, 2019-07-15: bigint, 2019-07-16: bigint, 2019-07-17: bigint, 2019-07-18: bigint, 2019-07-19: bigint, 2019-07-20: bigint, 2019-07-21: bigint, 2019-07-22: bigint, 2019-07-23: bigint, 2019-07-24: bigint, 2019-07-25: bigint, 2019-07-26: bigint, 2019-07-27: bigint, 2019-07-28: bigint, 2019-07-29: bigint, 2019-07-30: bigint, 2019-07-31: bigint, 2019-08-01: bigint, 2019-08-02: bigint, 2019-08-03: bigint, 2019-08-04: bigint, 2019-08-05: bigint, 2019-08-06: bigint, 2019-08-07: bigint, 2019-08-08: bigint, 2019-08-09: bigint, 2019-08-10: bigint, 2019-08-11: bigint, 2019-08-12: bigint, 2019-08-13: bigint, 2019-08-14: bigint, 2019-08-15: bigint, 2019-08-16: bigint, 2019-08-17: bigint, 2019-08-18: bigint, 2019-08-19: bigint, 2019-08-20: bigint, 2019-08-21: bigint, 2019-08-22: bigint, 2019-08-23: bigint, 2019-08-24: bigint, 2019-08-25: bigint, 2019-08-26: bigint, 2019-08-27: bigint, 2019-08-28: bigint, 2019-08-29: bigint, 2019-08-30: bigint, 2019-08-31: bigint]"
      ]
     },
     "execution_count": 36,
     "metadata": {},
     "output_type": "execute_result"
    }
   ],
   "source": [
    "from pyspark.sql import SparkSession, functions as F, Window\n",
    "from graphframes import GraphFrame\n",
    "import pandas as pd\n",
    "import numpy as np\n",
    "import matplotlib.pyplot as plt\n",
    "from wikicast.bipartition import induce_graph\n",
    "from datetime import datetime, timedelta\n",
    "\n",
    "\n",
    "def sign_to_string(*signs):\n",
    "    result = \"\"\n",
    "    for sign in signs:\n",
    "        result += \"x\" if sign else \"o\"\n",
    "    return result\n",
    "\n",
    "def get_name(t): \n",
    "    return (start_date + timedelta(t)).strftime(\"%Y-%m-%d\")\n",
    "\n",
    "\n",
    "def transform(graph, pageviews, dates):\n",
    "    sign = [f\"sign_{x}\" for x in range(8)]\n",
    "    fiedler = [f\"fiedler_{x}\" for x in range(8)]     \n",
    "    time_series = (\n",
    "        pageviews.join(\n",
    "            pageviews.groupBy(\"page_id\").agg(F.sum(\"count\").alias(\"total\")).where(\"total >= 10\").select(\"page_id\"), \n",
    "            on=\"page_id\",\n",
    "            how=\"inner\"\n",
    "        )\n",
    "        .withColumn(\"id\", F.col(\"page_id\"))\n",
    "        .groupBy(\"id\")\n",
    "        .pivot(\"date\")\n",
    "        .agg(F.min(\"count\"))\n",
    "    )\n",
    "    for date in set(dates) - set(time_series.columns):\n",
    "        time_series = time_series.withColumn(date, F.lit(0))\n",
    "    return (\n",
    "        graph.vertices.join(graph.degrees, on=\"id\", how=\"left\")\n",
    "        .join(graph.inDegrees, on=\"id\", how=\"left\")\n",
    "        .join(graph.outDegrees, on=\"id\", how=\"left\")\n",
    "        .join(time_series, on=\"id\", how=\"inner\")\n",
    "        .withColumn(\"partition_id\", F.udf(sign_to_string, \"string\")(*sign))\n",
    "        .select(\"id\", \"title\", \"partition_id\", \"degree\", \"inDegree\", \"outDegree\", *sign+fiedler+dates)\n",
    "    )\n",
    "\n",
    "def plot_degree(graph):\n",
    "    degree = graph.inDegrees.groupBy(\"inDegree\").count().orderBy(F.desc(\"count\"))\n",
    "    degree.show(n=5)\n",
    "\n",
    "    df = degree.toPandas()\n",
    "    plt.scatter(df[\"inDegree\"], df[\"count\"])\n",
    "    plt.xscale(\"log\")\n",
    "    plt.yscale(\"log\")\n",
    "\n",
    "\n",
    "\n",
    "spark = SparkSession.builder.getOrCreate()\n",
    "pages = spark.read.parquet(\"../data/clustered/sample_1_8_50\")\n",
    "pagelinks = spark.read.parquet(\"../data/enwiki/pagelinks\")\n",
    "pageviews = spark.read.parquet(\"../data/enwiki/pagecount_daily_v2\")\n",
    "\n",
    "pages.printSchema()\n",
    "pagelinks.printSchema()\n",
    "\n",
    "graph = induce_graph(GraphFrame(pages, pagelinks.selectExpr(\"from as src\", \"dest as dst\")), relabel=False)\n",
    "graph.cache()\n",
    "\n",
    "print(f\"graph has {graph.vertices.count()} articles and {graph.edges.count()} hyperlinks\")\n",
    "graph.vertices.show(vertical=True, n=1)\n",
    "\n",
    "if False:\n",
    "    plot_degree(graph)\n",
    "\n",
    "start_date = datetime.strptime(\"2018-01-01\", \"%Y-%m-%d\")\n",
    "end_date = datetime.strptime(\"2019-09-01\", \"%Y-%m-%d\")\n",
    "dates = [get_name(t) for t in range((end_date-start_date).days)]\n",
    "data = transform(graph, pageviews, dates)\n",
    "data.cache()"
   ]
  },
  {
   "cell_type": "code",
   "execution_count": 93,
   "metadata": {},
   "outputs": [
    {
     "name": "stdout",
     "output_type": "stream",
     "text": [
      "CPU times: user 3.73 ms, sys: 1.99 ms, total: 5.72 ms\n",
      "Wall time: 29.2 s\n"
     ]
    }
   ],
   "source": [
    "%time data.repartitionByRange(1, \"partition_id\").write.parquet(\"../data/design_matrix/sample_1_8_50\", mode=\"overwrite\")"
   ]
  },
  {
   "cell_type": "code",
   "execution_count": 35,
   "metadata": {},
   "outputs": [
    {
     "name": "stdout",
     "output_type": "stream",
     "text": [
      "\u001b[34msample_10_8_50\u001b[m\u001b[m \u001b[34msample_2_8_50\u001b[m\u001b[m  \u001b[34msample_4_8_50\u001b[m\u001b[m  \u001b[34msample_6_8_50\u001b[m\u001b[m  \u001b[34msample_8_8_50\u001b[m\u001b[m\r\n",
      "\u001b[34msample_1_8_50\u001b[m\u001b[m  \u001b[34msample_3_8_50\u001b[m\u001b[m  \u001b[34msample_5_8_50\u001b[m\u001b[m  \u001b[34msample_7_8_50\u001b[m\u001b[m  \u001b[34msample_9_8_50\u001b[m\u001b[m\r\n"
     ]
    }
   ],
   "source": [
    "!ls ../data/clustered"
   ]
  },
  {
   "cell_type": "code",
   "execution_count": 37,
   "metadata": {},
   "outputs": [
    {
     "name": "stdout",
     "output_type": "stream",
     "text": [
      "iteration {i+1}\n",
      "iteration {i+1}\n",
      "iteration {i+1}\n",
      "iteration {i+1}\n",
      "iteration {i+1}\n",
      "iteration {i+1}\n",
      "iteration {i+1}\n",
      "iteration {i+1}\n",
      "iteration {i+1}\n",
      "iteration {i+1}\n"
     ]
    }
   ],
   "source": [
    "def transform_batch(spark, pagelinks, pageviews, dates):\n",
    "    for i in range(10):\n",
    "        print(f\"iteration {i+1}\")\n",
    "        page = spark.read.parquet(f\"../data/clustered/sample_{i+1}_8_50\")\n",
    "        graph = induce_graph(GraphFrame(pages, pagelinks.selectExpr(\"from as src\", \"dest as dst\")), relabel=False)\n",
    "        data = transform(graph, pageviews, dates)\n",
    "        (\n",
    "            data\n",
    "            .repartitionByRange(1, \"partition_id\")\n",
    "            .write\n",
    "            .parquet(f\"../data/design_matrix/sample_{i+1}_8_50\", mode=\"overwrite\")\n",
    "        )\n",
    "\n",
    "pagelinks.cache()\n",
    "pageviews.cache()\n",
    "transform_batch(spark, pagelinks, pageviews, dates)"
   ]
  }
 ],
 "metadata": {
  "kernelspec": {
   "display_name": "Python 3",
   "language": "python",
   "name": "python3"
  },
  "language_info": {
   "codemirror_mode": {
    "name": "ipython",
    "version": 3
   },
   "file_extension": ".py",
   "mimetype": "text/x-python",
   "name": "python",
   "nbconvert_exporter": "python",
   "pygments_lexer": "ipython3",
   "version": "3.6.7"
  }
 },
 "nbformat": 4,
 "nbformat_minor": 2
}
