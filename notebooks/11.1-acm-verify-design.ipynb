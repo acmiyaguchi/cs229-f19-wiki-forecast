{
 "cells": [
  {
   "cell_type": "code",
   "execution_count": 21,
   "metadata": {},
   "outputs": [
    {
     "data": {
      "text/plain": [
       "DataFrame[id: int, bias: boolean, sign_0: boolean, sign_1: boolean, sign_2: boolean, sign_3: boolean, sign_4: boolean, sign_5: boolean, sign_6: boolean, title: string, is_redirect: boolean, is_new: boolean, fiedler_0: double, fiedler_1: double, fiedler_2: double, fiedler_3: double, fiedler_4: double, fiedler_5: double, fiedler_6: double, fiedler_7: double, sign_7: boolean]"
      ]
     },
     "execution_count": 21,
     "metadata": {},
     "output_type": "execute_result"
    }
   ],
   "source": [
    "from pyspark.sql import SparkSession\n",
    "spark = SparkSession.builder.getOrCreate()\n",
    "df1 = spark.read.parquet(\"../data/clustered/sample_1_8_50\")\n",
    "df2 = spark.read.parquet(\"../data/clustered/sample_3_8_50\")\n",
    "df1.cache()\n",
    "df2.cache()"
   ]
  },
  {
   "cell_type": "code",
   "execution_count": 22,
   "metadata": {},
   "outputs": [
    {
     "name": "stdout",
     "output_type": "stream",
     "text": [
      "root\n",
      " |-- id: integer (nullable = true)\n",
      " |-- bias: boolean (nullable = true)\n",
      " |-- sign_0: boolean (nullable = true)\n",
      " |-- sign_1: boolean (nullable = true)\n",
      " |-- sign_2: boolean (nullable = true)\n",
      " |-- sign_3: boolean (nullable = true)\n",
      " |-- sign_4: boolean (nullable = true)\n",
      " |-- sign_5: boolean (nullable = true)\n",
      " |-- sign_6: boolean (nullable = true)\n",
      " |-- title: string (nullable = true)\n",
      " |-- is_redirect: boolean (nullable = true)\n",
      " |-- is_new: boolean (nullable = true)\n",
      " |-- fiedler_0: double (nullable = true)\n",
      " |-- fiedler_1: double (nullable = true)\n",
      " |-- fiedler_2: double (nullable = true)\n",
      " |-- fiedler_3: double (nullable = true)\n",
      " |-- fiedler_4: double (nullable = true)\n",
      " |-- fiedler_5: double (nullable = true)\n",
      " |-- fiedler_6: double (nullable = true)\n",
      " |-- fiedler_7: double (nullable = true)\n",
      " |-- sign_7: boolean (nullable = true)\n",
      "\n"
     ]
    }
   ],
   "source": [
    "df1.printSchema()"
   ]
  },
  {
   "cell_type": "code",
   "execution_count": 23,
   "metadata": {},
   "outputs": [
    {
     "data": {
      "text/plain": [
       "(2936436, 2937528)"
      ]
     },
     "execution_count": 23,
     "metadata": {},
     "output_type": "execute_result"
    }
   ],
   "source": [
    "df1.count(), df2.count()"
   ]
  },
  {
   "cell_type": "code",
   "execution_count": 24,
   "metadata": {},
   "outputs": [
    {
     "data": {
      "text/plain": [
       "1092"
      ]
     },
     "execution_count": 24,
     "metadata": {},
     "output_type": "execute_result"
    }
   ],
   "source": [
    "df2.select(\"id\").subtract(df1.select(\"id\")).count()"
   ]
  },
  {
   "cell_type": "code",
   "execution_count": 25,
   "metadata": {},
   "outputs": [
    {
     "data": {
      "text/plain": [
       "1471674"
      ]
     },
     "execution_count": 25,
     "metadata": {},
     "output_type": "execute_result"
    }
   ],
   "source": [
    "df1.selectExpr(\"id\", \"sign_0 as part_1\").join(\n",
    "    df2.selectExpr(\"id\", \"sign_1 as part_2\"), on=\"id\"\n",
    ").where(\"part_1 <> part_2\").count()"
   ]
  },
  {
   "cell_type": "code",
   "execution_count": null,
   "metadata": {},
   "outputs": [],
   "source": []
  }
 ],
 "metadata": {
  "kernelspec": {
   "display_name": "Python 3",
   "language": "python",
   "name": "python3"
  },
  "language_info": {
   "codemirror_mode": {
    "name": "ipython",
    "version": 3
   },
   "file_extension": ".py",
   "mimetype": "text/x-python",
   "name": "python",
   "nbconvert_exporter": "python",
   "pygments_lexer": "ipython3",
   "version": "3.6.7"
  }
 },
 "nbformat": 4,
 "nbformat_minor": 2
}
