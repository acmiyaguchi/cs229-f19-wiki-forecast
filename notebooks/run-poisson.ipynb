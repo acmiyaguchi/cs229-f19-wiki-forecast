{
 "cells": [
  {
   "cell_type": "code",
   "execution_count": 1,
   "metadata": {
    "collapsed": true
   },
   "outputs": [],
   "source": [
    "%load_ext autoreload\n",
    "%autoreload 2"
   ]
  },
  {
   "cell_type": "code",
   "execution_count": 2,
   "metadata": {},
   "outputs": [
    {
     "data": {
      "text/plain": [
       "'C:\\\\Users\\\\acmiy\\\\OneDrive\\\\Documents\\\\cs229\\\\cs229-f19-wiki-forecast'"
      ]
     },
     "execution_count": 2,
     "metadata": {},
     "output_type": "execute_result"
    }
   ],
   "source": [
    "import os\n",
    "os.chdir(\"..\")\n",
    "os.getcwd()"
   ]
  },
  {
   "cell_type": "code",
   "execution_count": 3,
   "metadata": {
    "collapsed": true,
    "scrolled": true
   },
   "outputs": [],
   "source": [
    "import sys\n",
    "from pathlib import Path\n",
    "sys.path.append(str(Path(\".\").resolve() / \"wikicast\"))\n",
    "\n",
    "import numpy as np\n",
    "from wikicast import poisson"
   ]
  },
  {
   "cell_type": "markdown",
   "metadata": {},
   "source": [
    "# regression  on random poisson data"
   ]
  },
  {
   "cell_type": "code",
   "execution_count": 4,
   "metadata": {
    "collapsed": true
   },
   "outputs": [],
   "source": [
    "def rmse(y, y_pred):\n",
    "    return np.sqrt(np.sum(y-y_pred)**2)\n",
    "\n",
    "def mape(y, y_pred):\n",
    "    return np.sum(np.ma.divide(np.abs(y-y_pred), np.abs(y)).filled(0))*100\n",
    "\n",
    "def summarize(validate, train, test):\n",
    "    print(\"validate\", rmse(validate, train), mape(validate, train))\n",
    "    print(\"test\", rmse(test, validate), mape(test, validate))"
   ]
  },
  {
   "cell_type": "markdown",
   "metadata": {},
   "source": [
    "16 time series, with a window size k=4"
   ]
  },
  {
   "cell_type": "code",
   "execution_count": 5,
   "metadata": {},
   "outputs": [
    {
     "data": {
      "text/plain": [
       "((16, 4), (16, 1), (16, 1))"
      ]
     },
     "execution_count": 5,
     "metadata": {},
     "output_type": "execute_result"
    }
   ],
   "source": [
    "# k = 4\n",
    "#t = lambda i: k * i\n",
    "Y = np.random.poisson(3, (16, 16))\n",
    "t = lambda i: [np.newaxis,4, 5, 6][i]\n",
    "train, validate, test = Y[t(0):t(1)].T, Y[t(1):t(2)].T, Y[t(2):t(3)].T\n",
    "train.shape, validate.shape, test.shape"
   ]
  },
  {
   "cell_type": "code",
   "execution_count": 6,
   "metadata": {
    "collapsed": true,
    "scrolled": true
   },
   "outputs": [],
   "source": [
    "poisson_reg = poisson.PoissonRegression()"
   ]
  },
  {
   "cell_type": "markdown",
   "metadata": {},
   "source": [
    "# shift right"
   ]
  },
  {
   "cell_type": "code",
   "execution_count": 7,
   "metadata": {
    "scrolled": true
   },
   "outputs": [
    {
     "name": "stdout",
     "output_type": "stream",
     "text": [
      "validate 34.0 3076.6666666666665\n",
      "test 9.0 1456.6666666666667\n"
     ]
    }
   ],
   "source": [
    "print(\"validate\", rmse(validate, train), mape(validate, train))\n",
    "print(\"test\", rmse(test, validate), mape(test, validate))"
   ]
  },
  {
   "cell_type": "markdown",
   "metadata": {},
   "source": [
    "# mean"
   ]
  },
  {
   "cell_type": "code",
   "execution_count": 8,
   "metadata": {
    "scrolled": true
   },
   "outputs": [
    {
     "name": "stdout",
     "output_type": "stream",
     "text": [
      "validate 34.0 1770.4166666666665\n",
      "test 16.0 3955.833333333334\n"
     ]
    }
   ],
   "source": [
    "print(\"validate\", rmse(validate, train.mean(axis=0)), mape(validate, train.mean(axis=0)))\n",
    "z = np.hstack([train[:,1:], validate])\n",
    "print(\"test\", rmse(test, z.mean(axis=0)), mape(test, z.mean(axis=0)))"
   ]
  },
  {
   "cell_type": "markdown",
   "metadata": {},
   "source": [
    "# evaluate on validation fit"
   ]
  },
  {
   "cell_type": "code",
   "execution_count": 9,
   "metadata": {
    "scrolled": false
   },
   "outputs": [
    {
     "name": "stdout",
     "output_type": "stream",
     "text": [
      "n_examples:16 d:4\n",
      "theta= [0.08613002 0.05349662 0.10988867 0.10249348] delta= 0.00019990911262607132 iter= 250\n",
      "theta= [0.09493299 0.037159   0.12305724 0.09935528] delta= 0.00014175596638551867 iter= 500\n",
      "theta= [0.10082269 0.02465308 0.13187786 0.09611348] delta= 0.00010407880722869017 iter= 750\n",
      "theta= [0.10516735 0.01546103 0.13828669 0.09365528] delta= 7.669949627591203e-05 iter= 1000\n",
      "theta= [0.1083896  0.00867983 0.14296811 0.09180709] delta= 5.667848566497574e-05 iter= 1250\n",
      "theta= [0.11078783 0.00366157 0.14639907 0.09042493] delta= 4.196654675883913e-05 iter= 1500\n",
      "theta= [ 1.12577630e-01 -6.12892138e-05  1.48918980e-01  8.93958763e-02] delta= 3.1116945065152714e-05 iter= 1750\n",
      "theta= [ 0.11391632 -0.00282875  0.15077202  0.08863283] delta= 2.309463380305509e-05 iter= 2000\n",
      "theta= [ 0.11491954 -0.00488953  0.1521353   0.0880693 ] delta= 1.7151495495977374e-05 iter= 2250\n",
      "theta= [ 0.11567271 -0.00642639  0.15313805  0.08765486] delta= 1.2742592690055134e-05 iter= 2500\n",
      "theta= [ 0.11614868 -0.00739141  0.15375858  0.08739927]\n",
      "validate 99.40972762921501 9683.049830537837\n",
      "test 44.59027237078496 17506.341961097423\n"
     ]
    }
   ],
   "source": [
    "poisson_reg.fit(train, validate)\n",
    "y_pred = poisson_reg.predict(train)\n",
    "print(\"validate\", rmse(validate, y_pred), mape(validate, y_pred))\n",
    "print(\"test\", rmse(test, y_pred), mape(test, y_pred))"
   ]
  },
  {
   "cell_type": "markdown",
   "metadata": {},
   "source": [
    "# predict with validation data (left shift)"
   ]
  },
  {
   "cell_type": "code",
   "execution_count": 10,
   "metadata": {},
   "outputs": [
    {
     "name": "stdout",
     "output_type": "stream",
     "text": [
      "validate 108.18946664657554 8642.68418194005\n",
      "test 35.810533353424475 16552.070179747814\n"
     ]
    }
   ],
   "source": [
    "z = np.hstack([train[:,:-1], validate])\n",
    "y_pred = poisson_reg.predict(z)\n",
    "print(\"validate\", rmse(validate, y_pred), mape(validate, y_pred))\n",
    "print(\"test\", rmse(test, y_pred), mape(test, y_pred))"
   ]
  },
  {
   "cell_type": "markdown",
   "metadata": {},
   "source": [
    "# retrain on validation predictions"
   ]
  },
  {
   "cell_type": "code",
   "execution_count": 11,
   "metadata": {
    "scrolled": true
   },
   "outputs": [
    {
     "name": "stdout",
     "output_type": "stream",
     "text": [
      "n_examples:16 d:4\n",
      "theta= [0.08799612 0.05508049 0.10946654 0.101893  ] delta= 0.00020663746442583226 iter= 250\n",
      "theta= [0.0942653  0.04067497 0.12143993 0.10197146] delta= 0.00011445360104090342 iter= 500\n",
      "theta= [0.09824159 0.029015   0.12910606 0.09997131] delta= 8.917999872574042e-05 iter= 750\n",
      "theta= [0.10154689 0.02032284 0.13488613 0.09800376] delta= 6.968931331802291e-05 iter= 1000\n",
      "theta= [0.10428823 0.01380394 0.13927482 0.09620776] delta= 5.456298281612375e-05 iter= 1250\n",
      "theta= [0.10654831 0.00888403 0.14262024 0.09463251] delta= 4.277567055269905e-05 iter= 1500\n",
      "theta= [0.10840125 0.00515014 0.14517858 0.09328684] delta= 3.356442672279183e-05 iter= 1750\n",
      "theta= [0.10991294 0.00230242 0.14714018 0.09215847] delta= 2.6352333599676794e-05 iter= 2000\n",
      "theta= [1.11140938e-01 1.21181551e-04 1.48647522e-01 9.12251550e-02] delta= 2.0698047194370598e-05 iter= 2250\n",
      "theta= [ 0.11213484 -0.00155586  0.14980788  0.09046114] delta= 1.6261115065473475e-05 iter= 2500\n",
      "theta= [ 0.11293676 -0.00284951  0.15070245  0.08984073] delta= 1.2777357861430047e-05 iter= 2750\n",
      "theta= [ 0.11358207 -0.00385027  0.15139298  0.08934016] delta= 1.0040929307999547e-05 iter= 3000\n",
      "theta= [ 0.11359359 -0.0038678   0.15140506  0.08933122]\n",
      "validate 107.87766209021542 8589.60198851433\n",
      "test 36.12233790978456 16517.748240587254\n"
     ]
    }
   ],
   "source": [
    "poisson_reg.fit(z, poisson_reg.predict(z))\n",
    "y_pred = poisson_reg.predict(z)\n",
    "print(\"validate\", rmse(validate, y_pred), mape(validate, y_pred))\n",
    "print(\"test\", rmse(test, y_pred), mape(test, y_pred))"
   ]
  },
  {
   "cell_type": "markdown",
   "metadata": {},
   "source": [
    "# forecast horizon"
   ]
  },
  {
   "cell_type": "code",
   "execution_count": 12,
   "metadata": {},
   "outputs": [
    {
     "data": {
      "text/plain": [
       "((16, 4), (16, 4), (16, 4))"
      ]
     },
     "execution_count": 12,
     "metadata": {},
     "output_type": "execute_result"
    }
   ],
   "source": [
    "# vector predictions\n",
    "k = 4\n",
    "t = lambda i: k * i\n",
    "train, validate, test = Y[t(0):t(1)].T, Y[t(1):t(2)].T, Y[t(2):t(3)].T\n",
    "train.shape, validate.shape, test.shape"
   ]
  },
  {
   "cell_type": "code",
   "execution_count": 13,
   "metadata": {},
   "outputs": [
    {
     "name": "stdout",
     "output_type": "stream",
     "text": [
      "n_examples:16 d:4\n"
     ]
    },
    {
     "ename": "ValueError",
     "evalue": "cannot reshape array of size 64 into shape (16,1)",
     "output_type": "error",
     "traceback": [
      "\u001b[1;31m---------------------------------------------------------------------------\u001b[0m",
      "\u001b[1;31mValueError\u001b[0m                                Traceback (most recent call last)",
      "\u001b[1;32m<ipython-input-13-68b7f8b3e506>\u001b[0m in \u001b[0;36m<module>\u001b[1;34m()\u001b[0m\n\u001b[1;32m----> 1\u001b[1;33m \u001b[0mpoisson_reg\u001b[0m\u001b[1;33m.\u001b[0m\u001b[0mfit\u001b[0m\u001b[1;33m(\u001b[0m\u001b[0mtrain\u001b[0m\u001b[1;33m,\u001b[0m \u001b[0mvalidate\u001b[0m\u001b[1;33m)\u001b[0m\u001b[1;33m\u001b[0m\u001b[0m\n\u001b[0m\u001b[0;32m      2\u001b[0m \u001b[0my_pred\u001b[0m \u001b[1;33m=\u001b[0m \u001b[0mpoisson_reg\u001b[0m\u001b[1;33m.\u001b[0m\u001b[0mpredict\u001b[0m\u001b[1;33m(\u001b[0m\u001b[0mtrain\u001b[0m\u001b[1;33m)\u001b[0m\u001b[1;33m\u001b[0m\u001b[0m\n\u001b[0;32m      3\u001b[0m \u001b[0mprint\u001b[0m\u001b[1;33m(\u001b[0m\u001b[1;34m\"validate\"\u001b[0m\u001b[1;33m,\u001b[0m \u001b[0mrmse\u001b[0m\u001b[1;33m(\u001b[0m\u001b[0mvalidate\u001b[0m\u001b[1;33m,\u001b[0m \u001b[0my_pred\u001b[0m\u001b[1;33m)\u001b[0m\u001b[1;33m,\u001b[0m \u001b[0mmape\u001b[0m\u001b[1;33m(\u001b[0m\u001b[0mvalidate\u001b[0m\u001b[1;33m,\u001b[0m \u001b[0my_pred\u001b[0m\u001b[1;33m)\u001b[0m\u001b[1;33m)\u001b[0m\u001b[1;33m\u001b[0m\u001b[0m\n\u001b[0;32m      4\u001b[0m \u001b[0mprint\u001b[0m\u001b[1;33m(\u001b[0m\u001b[1;34m\"test\"\u001b[0m\u001b[1;33m,\u001b[0m \u001b[0mrmse\u001b[0m\u001b[1;33m(\u001b[0m\u001b[0mtest\u001b[0m\u001b[1;33m,\u001b[0m \u001b[0my_pred\u001b[0m\u001b[1;33m)\u001b[0m\u001b[1;33m,\u001b[0m \u001b[0mmape\u001b[0m\u001b[1;33m(\u001b[0m\u001b[0mtest\u001b[0m\u001b[1;33m,\u001b[0m \u001b[0my_pred\u001b[0m\u001b[1;33m)\u001b[0m\u001b[1;33m)\u001b[0m\u001b[1;33m\u001b[0m\u001b[0m\n",
      "\u001b[1;32m~\\OneDrive\\Documents\\cs229\\cs229-f19-wiki-forecast\\wikicast\\poisson.py\u001b[0m in \u001b[0;36mfit\u001b[1;34m(self, x, y)\u001b[0m\n\u001b[0;32m     51\u001b[0m         \u001b[0miter\u001b[0m \u001b[1;33m=\u001b[0m \u001b[1;36m0\u001b[0m\u001b[1;33m\u001b[0m\u001b[0m\n\u001b[0;32m     52\u001b[0m \u001b[1;33m\u001b[0m\u001b[0m\n\u001b[1;32m---> 53\u001b[1;33m         \u001b[0my_1\u001b[0m \u001b[1;33m=\u001b[0m \u001b[0my\u001b[0m\u001b[1;33m.\u001b[0m\u001b[0mreshape\u001b[0m\u001b[1;33m(\u001b[0m\u001b[1;33m(\u001b[0m\u001b[0mn_examples\u001b[0m\u001b[1;33m,\u001b[0m \u001b[1;36m1\u001b[0m\u001b[1;33m)\u001b[0m\u001b[1;33m)\u001b[0m\u001b[1;33m\u001b[0m\u001b[0m\n\u001b[0m\u001b[0;32m     54\u001b[0m         \u001b[0mstep_size\u001b[0m \u001b[1;33m=\u001b[0m \u001b[0mself\u001b[0m\u001b[1;33m.\u001b[0m\u001b[0mstep_size\u001b[0m\u001b[1;33m\u001b[0m\u001b[0m\n\u001b[0;32m     55\u001b[0m         \u001b[1;32mwhile\u001b[0m \u001b[0miter\u001b[0m \u001b[1;33m<\u001b[0m \u001b[0mself\u001b[0m\u001b[1;33m.\u001b[0m\u001b[0mmax_iter\u001b[0m \u001b[1;32mand\u001b[0m \u001b[0mdelta_norm\u001b[0m \u001b[1;33m>\u001b[0m \u001b[0mself\u001b[0m\u001b[1;33m.\u001b[0m\u001b[0meps\u001b[0m\u001b[1;33m:\u001b[0m\u001b[1;33m\u001b[0m\u001b[0m\n",
      "\u001b[1;31mValueError\u001b[0m: cannot reshape array of size 64 into shape (16,1)"
     ]
    }
   ],
   "source": [
    "poisson_reg.fit(train, validate)\n",
    "y_pred = poisson_reg.predict(train)\n",
    "print(\"validate\", rmse(validate, y_pred), mape(validate, y_pred))\n",
    "print(\"test\", rmse(test, y_pred), mape(test, y_pred))"
   ]
  }
 ],
 "metadata": {
  "kernelspec": {
   "display_name": "Python 3",
   "language": "python",
   "name": "python3"
  },
  "language_info": {
   "codemirror_mode": {
    "name": "ipython",
    "version": 3
   },
   "file_extension": ".py",
   "mimetype": "text/x-python",
   "name": "python",
   "nbconvert_exporter": "python",
   "pygments_lexer": "ipython3",
   "version": "3.6.3"
  }
 },
 "nbformat": 4,
 "nbformat_minor": 2
}
