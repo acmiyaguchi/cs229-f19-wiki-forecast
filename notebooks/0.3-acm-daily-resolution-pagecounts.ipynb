{
 "cells": [
  {
   "cell_type": "code",
   "execution_count": 3,
   "metadata": {},
   "outputs": [
    {
     "name": "stdout",
     "output_type": "stream",
     "text": [
      "415M\t../data/processed/pagecount\r\n"
     ]
    }
   ],
   "source": [
    "! du -h ../data/processed/pagecount"
   ]
  },
  {
   "cell_type": "code",
   "execution_count": 4,
   "metadata": {},
   "outputs": [],
   "source": [
    "pagecount = spark.read.parquet(\"../data/processed/pagecount\")"
   ]
  },
  {
   "cell_type": "code",
   "execution_count": 6,
   "metadata": {},
   "outputs": [
    {
     "name": "stdout",
     "output_type": "stream",
     "text": [
      "+-------+-------------------+-----+\n",
      "|page_id|         visit_time|count|\n",
      "+-------+-------------------+-----+\n",
      "|    698|2019-02-05 00:00:00|   40|\n",
      "|    698|2019-02-05 01:00:00|   35|\n",
      "|    698|2019-02-05 02:00:00|   32|\n",
      "|    698|2019-02-05 03:00:00|   32|\n",
      "|    698|2019-02-05 04:00:00|   29|\n",
      "+-------+-------------------+-----+\n",
      "only showing top 5 rows\n",
      "\n"
     ]
    }
   ],
   "source": [
    "pagecount.show(n=5)"
   ]
  },
  {
   "cell_type": "code",
   "execution_count": 14,
   "metadata": {},
   "outputs": [
    {
     "name": "stdout",
     "output_type": "stream",
     "text": [
      "+-------+----------+-----+\n",
      "|page_id|      date|count|\n",
      "+-------+----------+-----+\n",
      "|   8651|2019-01-06| 2495|\n",
      "|   9087|2019-02-23|  274|\n",
      "|   9087|2019-01-07|  326|\n",
      "|   9087|2019-01-29|  371|\n",
      "|   9087|2019-01-06|  215|\n",
      "|   9417|2019-01-14|  561|\n",
      "|  10911|2019-02-06|  512|\n",
      "|  11127|2019-02-21| 1642|\n",
      "|  12539|2019-01-06|  251|\n",
      "|  16550|2019-02-26| 1587|\n",
      "|  16794|2019-01-20|  320|\n",
      "|  17068|2019-01-21|  859|\n",
      "|  19036|2019-01-05| 1006|\n",
      "|  20003|2019-02-23|  346|\n",
      "|  20003|2019-02-10|  350|\n",
      "|  22304|2019-02-21|  821|\n",
      "|  22304|2019-02-15|  576|\n",
      "|  24614|2019-02-20|  152|\n",
      "|  25321|2019-01-22|  109|\n",
      "|  27930|2019-02-08|  136|\n",
      "+-------+----------+-----+\n",
      "only showing top 20 rows\n",
      "\n"
     ]
    }
   ],
   "source": [
    "import pyspark.sql.functions as F\n",
    "daily = (\n",
    "    pagecount\n",
    "    .select(\"page_id\", F.date_format(\"visit_time\", \"yyyy-MM-dd\").alias(\"date\"), \"count\")\n",
    "    .groupBy(\"page_id\", \"date\")\n",
    "    .agg(F.sum(\"count\").alias(\"count\"))\n",
    ")\n",
    "daily.show()"
   ]
  },
  {
   "cell_type": "code",
   "execution_count": 15,
   "metadata": {},
   "outputs": [],
   "source": [
    "daily.repartitionByRange(1, \"page_id\", \"date\").write.parquet(\"../data/enwiki/pagecount_daily_v1\")"
   ]
  },
  {
   "cell_type": "code",
   "execution_count": null,
   "metadata": {},
   "outputs": [],
   "source": [
    "! tree -h ."
   ]
  }
 ],
 "metadata": {
  "kernelspec": {
   "display_name": "Python 3",
   "language": "python",
   "name": "python3"
  },
  "language_info": {
   "codemirror_mode": {
    "name": "ipython",
    "version": 3
   },
   "file_extension": ".py",
   "mimetype": "text/x-python",
   "name": "python",
   "nbconvert_exporter": "python",
   "pygments_lexer": "ipython3",
   "version": "3.6.7"
  }
 },
 "nbformat": 4,
 "nbformat_minor": 2
}
