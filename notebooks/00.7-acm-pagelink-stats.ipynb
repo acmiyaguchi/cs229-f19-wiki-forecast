{
 "cells": [
  {
   "cell_type": "code",
   "execution_count": 1,
   "metadata": {},
   "outputs": [
    {
     "name": "stdout",
     "output_type": "stream",
     "text": [
      "\u001b[01;34m../data/enwiki\u001b[00m\r\n",
      "├── [ 256]  \u001b[01;34mcategorylinks\u001b[00m\r\n",
      "│   ├── [   0]  _SUCCESS\r\n",
      "│   ├── [222M]  part-00000-5c4ff747-a7d2-48b6-8e21-e82a4b8840dd-c000.snappy.parquet\r\n",
      "│   └── [233M]  part-00001-5c4ff747-a7d2-48b6-8e21-e82a4b8840dd-c000.snappy.parquet\r\n",
      "├── [ 192]  \u001b[01;34mcategorypages\u001b[00m\r\n",
      "│   ├── [   0]  _SUCCESS\r\n",
      "│   └── [ 32M]  part-00000-e856fb1e-f22c-4c36-9ed1-5621bab499a9-c000.snappy.parquet\r\n",
      "├── [ 384]  \u001b[01;34mpage_parquet\u001b[00m\r\n",
      "│   ├── [   0]  _SUCCESS\r\n",
      "│   ├── [179M]  part-00000-e97ee0ca-9896-4efe-88a7-8cf2080e6443-c000.snappy.parquet\r\n",
      "│   ├── [175M]  part-00001-e97ee0ca-9896-4efe-88a7-8cf2080e6443-c000.snappy.parquet\r\n",
      "│   ├── [181M]  part-00002-e97ee0ca-9896-4efe-88a7-8cf2080e6443-c000.snappy.parquet\r\n",
      "│   └── [182M]  part-00003-e97ee0ca-9896-4efe-88a7-8cf2080e6443-c000.snappy.parquet\r\n",
      "├── [ 192]  \u001b[01;34mpagecount_daily_v1\u001b[00m\r\n",
      "│   ├── [   0]  _SUCCESS\r\n",
      "│   └── [ 63M]  part-00000-403e555c-eed5-4476-8908-b019dfcd08d4-c000.snappy.parquet\r\n",
      "├── [ 256]  \u001b[01;34mpagecount_daily_v2\u001b[00m\r\n",
      "│   ├── [   0]  _SUCCESS\r\n",
      "│   ├── [235M]  part-00000-97cd53e2-dab7-4dc1-bb1c-32d45d1e7669-c000.snappy.parquet\r\n",
      "│   └── [249M]  part-00001-97cd53e2-dab7-4dc1-bb1c-32d45d1e7669-c000.snappy.parquet\r\n",
      "├── [ 640]  \u001b[01;34mpagelinks\u001b[00m\r\n",
      "│   ├── [   0]  _SUCCESS\r\n",
      "│   ├── [248M]  part-00000-3255198c-5b01-46f9-9a29-0e7e6c3d24c1-c000.snappy.parquet\r\n",
      "│   ├── [231M]  part-00001-3255198c-5b01-46f9-9a29-0e7e6c3d24c1-c000.snappy.parquet\r\n",
      "│   ├── [245M]  part-00002-3255198c-5b01-46f9-9a29-0e7e6c3d24c1-c000.snappy.parquet\r\n",
      "│   ├── [247M]  part-00003-3255198c-5b01-46f9-9a29-0e7e6c3d24c1-c000.snappy.parquet\r\n",
      "│   ├── [248M]  part-00004-3255198c-5b01-46f9-9a29-0e7e6c3d24c1-c000.snappy.parquet\r\n",
      "│   ├── [247M]  part-00005-3255198c-5b01-46f9-9a29-0e7e6c3d24c1-c000.snappy.parquet\r\n",
      "│   ├── [251M]  part-00006-3255198c-5b01-46f9-9a29-0e7e6c3d24c1-c000.snappy.parquet\r\n",
      "│   └── [240M]  part-00007-3255198c-5b01-46f9-9a29-0e7e6c3d24c1-c000.snappy.parquet\r\n",
      "└── [ 192]  \u001b[01;34mpages\u001b[00m\r\n",
      "    ├── [   0]  _SUCCESS\r\n",
      "    └── [117M]  part-00000-210e029a-635e-4a0e-9f69-7e7d135072bd-c000.snappy.parquet\r\n",
      "\r\n",
      "7 directories, 26 files\r\n"
     ]
    }
   ],
   "source": [
    "!tree -h ../data/enwiki"
   ]
  },
  {
   "cell_type": "code",
   "execution_count": 2,
   "metadata": {},
   "outputs": [],
   "source": [
    "base = \"../data/enwiki\"\n",
    "pages = spark.read.parquet(f\"{base}/pages\")\n",
    "pagelinks = spark.read.parquet(f\"{base}/pagelinks\")\n",
    "categorypages = spark.read.parquet(f\"{base}/categorypages\")\n",
    "categorylinks = spark.read.parquet(f\"{base}/categorylinks\")\n",
    "\n",
    "pages.createOrReplaceTempView(\"pages\")\n",
    "pagelinks.createOrReplaceTempView(\"pagelinks\")\n",
    "categorypages.createOrReplaceTempView(\"categorypages\")\n",
    "categorylinks.createOrReplaceTempView(\"categorylinks\")"
   ]
  },
  {
   "cell_type": "code",
   "execution_count": 12,
   "metadata": {},
   "outputs": [
    {
     "name": "stdout",
     "output_type": "stream",
     "text": [
      "+---+----------------------------------------+-----------+------+\n",
      "|id |title                                   |is_redirect|is_new|\n",
      "+---+----------------------------------------+-----------+------+\n",
      "|12 |Anarchism                               |false      |false |\n",
      "|25 |Autism                                  |false      |false |\n",
      "|39 |Albedo                                  |false      |false |\n",
      "|290|A                                       |false      |false |\n",
      "|303|Alabama                                 |false      |false |\n",
      "|305|Achilles                                |false      |false |\n",
      "|307|Abraham_Lincoln                         |false      |false |\n",
      "|308|Aristotle                               |false      |false |\n",
      "|309|An_American_in_Paris                    |false      |false |\n",
      "|316|Academy_Award_for_Best_Production_Design|false      |false |\n",
      "+---+----------------------------------------+-----------+------+\n",
      "only showing top 10 rows\n",
      "\n",
      "+--------+--------+\n",
      "|    from|    dest|\n",
      "+--------+--------+\n",
      "|38319581|38315934|\n",
      "|38320620|12010815|\n",
      "|38320620|20038415|\n",
      "|38320620|   45127|\n",
      "|38320620|   48361|\n",
      "|38320620|12467294|\n",
      "|38320620| 5218624|\n",
      "|38320620|37316364|\n",
      "|38320620|   33604|\n",
      "|38320620|   14919|\n",
      "+--------+--------+\n",
      "only showing top 10 rows\n",
      "\n",
      "+--------+--------------------------------------------------+-----------+------+\n",
      "|id      |title                                             |is_redirect|is_new|\n",
      "+--------+--------------------------------------------------+-----------+------+\n",
      "|52356933|Christian_missionaries_in_Persia                  |false      |true  |\n",
      "|52356969|Roman_Catholic_missionaries_in_Cambodia           |false      |true  |\n",
      "|52356978|Christian_missionaries_in_Cambodia                |false      |false |\n",
      "|52356986|Women_scientists_from_West_Bengal                 |false      |false |\n",
      "|52356994|West_Bengal_academics                             |false      |false |\n",
      "|52357015|Revolutionary_Communist_Party_of_India_politicians|false      |true  |\n",
      "|52357017|Bolshevik_Party_of_India_politicians              |false      |true  |\n",
      "|52357018|Revolutionary_Communist_Party_of_India            |false      |false |\n",
      "|52357021|Bolshevik_Party_of_India                          |false      |false |\n",
      "|52357149|French_expatriates_in_the_Philippines             |false      |false |\n",
      "+--------+--------------------------------------------------+-----------+------+\n",
      "only showing top 10 rows\n",
      "\n",
      "+--------+--------------------+--------+------+\n",
      "|    from|               title|    dest|  type|\n",
      "+--------+--------------------+--------+------+\n",
      "|51991420|1000_V_DC_railway...|57839957|  page|\n",
      "|25064564|1000_V_DC_railway...|57839957|  page|\n",
      "|57839948|1000_V_DC_railway...|57839957|subcat|\n",
      "|36222914|                1015|  942333|subcat|\n",
      "|52195340|     1030_in_England|52195348|subcat|\n",
      "|52230248|        1052_in_Asia|52230254|subcat|\n",
      "|37062677|1053_establishmen...|52222609|  page|\n",
      "|48115552|        1098_in_Asia|40737184|subcat|\n",
      "|54892989|        1098_in_Asia|40737184|  page|\n",
      "|52318050| 1099_establishments| 4842143|subcat|\n",
      "+--------+--------------------+--------+------+\n",
      "only showing top 10 rows\n",
      "\n"
     ]
    }
   ],
   "source": [
    "pages.show(truncate=False, n=10)\n",
    "pagelinks.show(n=10)\n",
    "categorypages.show(truncate=False, n=10)\n",
    "categorylinks.show(n=10)"
   ]
  },
  {
   "cell_type": "code",
   "execution_count": 4,
   "metadata": {},
   "outputs": [],
   "source": [
    "from graphframes import GraphFrame\n",
    "from pyspark.sql import functions as F\n",
    "\n",
    "g_page = GraphFrame(pages, pagelinks.selectExpr(\"from as src\", \"dest as dst\"))\n",
    "g_cat = GraphFrame(categorypages, categorylinks.selectExpr(\"from as src\", \"dest as dst\"))"
   ]
  },
  {
   "cell_type": "code",
   "execution_count": 5,
   "metadata": {},
   "outputs": [
    {
     "data": {
      "text/plain": [
       "<Figure size 640x480 with 1 Axes>"
      ]
     },
     "metadata": {},
     "output_type": "display_data"
    },
    {
     "data": {
      "text/plain": [
       "<Figure size 640x480 with 1 Axes>"
      ]
     },
     "metadata": {},
     "output_type": "display_data"
    }
   ],
   "source": [
    "import matplotlib.pyplot as plt\n",
    "\n",
    "def plot_degree(df):\n",
    "    df = df.toPandas()\n",
    "    ax = df.plot.scatter(x=\"degree\", y=\"freq\", loglog=True)\n",
    "    ax.set_xlim(df.min().degree, df.max().degree)\n",
    "    ax.set_ylim(df.min()[\"freq\"], df.max()[\"freq\"])\n",
    "    plt.show()\n",
    "    \n",
    "plot_degree(\n",
    "    g_page.inDegrees.groupBy(\"inDegree\").count()\n",
    "    .selectExpr(\"inDegree as degree\", \"count as freq\")\n",
    ")\n",
    "\n",
    "plot_degree(\n",
    "    g_cat.inDegrees.groupBy(\"inDegree\").count()\n",
    "    .selectExpr(\"inDegree as degree\", \"count as freq\")\n",
    ")"
   ]
  },
  {
   "cell_type": "code",
   "execution_count": 6,
   "metadata": {},
   "outputs": [
    {
     "data": {
      "image/png": "[encoded data removed]",
      "text/plain": [
       "<Figure size 432x288 with 1 Axes>"
      ]
     },
     "metadata": {
      "needs_background": "light"
     },
     "output_type": "display_data"
    },
    {
     "data": {
      "image/png": "[encoded data removed]",
      "text/plain": [
       "<Figure size 432x288 with 1 Axes>"
      ]
     },
     "metadata": {
      "needs_background": "light"
     },
     "output_type": "display_data"
    }
   ],
   "source": [
    "plot_degree(\n",
    "    g_page.outDegrees.groupBy(\"outDegree\").count()\n",
    "    .selectExpr(\"outDegree as degree\", \"count as freq\")\n",
    ")\n",
    "\n",
    "plot_degree(\n",
    "    g_cat.outDegrees.groupBy(\"outDegree\").count()\n",
    "    .selectExpr(\"outDegree as degree\", \"count as freq\")\n",
    ")"
   ]
  },
  {
   "cell_type": "code",
   "execution_count": 29,
   "metadata": {},
   "outputs": [
    {
     "name": "stdout",
     "output_type": "stream",
     "text": [
      "+----+---------------+-----------+------+\n",
      "|  id|          title|is_redirect|is_new|\n",
      "+----+---------------+-----------+------+\n",
      "|2241|Antonio_Salieri|      false| false|\n",
      "+----+---------------+-----------+------+\n",
      "\n",
      "+--------------------+\n",
      "|                   v|\n",
      "+--------------------+\n",
      "|[7561507, Ramón_V...|\n",
      "|[23865486, Alessa...|\n",
      "|[11246, Falstaff,...|\n",
      "|[477170, Matthew_...|\n",
      "|[234507, The_New_...|\n",
      "|[29697232, NPR, f...|\n",
      "|[24449007, Zehava...|\n",
      "|[15260106, Mozart...|\n",
      "|[34350, Yoko_Ono,...|\n",
      "|[19397243, Sympho...|\n",
      "|[38402833, Music_...|\n",
      "|[44240, Catherine...|\n",
      "|[842288, Alessand...|\n",
      "|[19397470, Sympho...|\n",
      "|[249524, Harrowin...|\n",
      "|[38846595, Mass_N...|\n",
      "|[283846, Culture_...|\n",
      "|[18181788, Wiener...|\n",
      "|[11895304, Bampto...|\n",
      "|[4520713, Piano_C...|\n",
      "+--------------------+\n",
      "only showing top 20 rows\n",
      "\n"
     ]
    },
    {
     "data": {
      "text/plain": [
       "852"
      ]
     },
     "execution_count": 29,
     "metadata": {},
     "output_type": "execute_result"
    }
   ],
   "source": [
    "def sample_page() -> int:\n",
    "    random_page = pages.sample(False, 0.001).limit(1).collect()[0]\n",
    "    return random_page.id\n",
    "\n",
    "seed = sample_page()\n",
    "pages.where(f\"id = {seed}\").show()\n",
    "\n",
    "v = g_page.find(\"\"\"\n",
    "(a)-[]->(b);\n",
    "(b)-[]->(c)\n",
    "\"\"\").where(f\"b.id = {seed}\")\n",
    "\n",
    "v_set = v.selectExpr(\"a as v\").union(v.selectExpr(\"b as v\")).union(v.selectExpr(\"c as v\")).distinct().select(\"v.*\")\n",
    "v.cache()\n",
    "v.count()"
   ]
  },
  {
   "cell_type": "code",
   "execution_count": 47,
   "metadata": {},
   "outputs": [],
   "source": [
    "v = v_set.select(\"v.*\")"
   ]
  },
  {
   "cell_type": "code",
   "execution_count": 115,
   "metadata": {},
   "outputs": [
    {
     "data": {
      "text/plain": [
       "33885"
      ]
     },
     "execution_count": 115,
     "metadata": {},
     "output_type": "execute_result"
    }
   ],
   "source": [
    "filtered = (\n",
    "    pagelinks\n",
    "    .join(v, on=pagelinks[\"from\"]==v[\"id\"], how=\"right\")\n",
    "    .select(\"from\", \"dest\")\n",
    "    .join(v, on=pagelinks[\"dest\"]==v[\"id\"], how=\"right\")\n",
    "    .select(\"from\", \"dest\")\n",
    "    .where(\"from is not null AND dest is not null\")\n",
    ")\n",
    "\n",
    "filtered.count()"
   ]
  },
  {
   "cell_type": "code",
   "execution_count": 116,
   "metadata": {},
   "outputs": [],
   "source": [
    "g_sub = GraphFrame(v, filtered.selectExpr(\"from as src\", \"dest as dst\"))"
   ]
  },
  {
   "cell_type": "code",
   "execution_count": 117,
   "metadata": {},
   "outputs": [
    {
     "data": {
      "text/plain": [
       "(852, 33885)"
      ]
     },
     "execution_count": 117,
     "metadata": {},
     "output_type": "execute_result"
    }
   ],
   "source": [
    "g_sub.vertices.count(), g_sub.edges.count()"
   ]
  },
  {
   "cell_type": "code",
   "execution_count": 118,
   "metadata": {},
   "outputs": [
    {
     "data": {
      "image/png": "[encoded data removed]",
      "text/plain": [
       "<Figure size 432x288 with 1 Axes>"
      ]
     },
     "metadata": {},
     "output_type": "display_data"
    }
   ],
   "source": [
    "import networkx as nx\n",
    "import matplotlib.pyplot as plt\n",
    "\n",
    "g_sub_nx = nx.from_pandas_edgelist(g_sub.edges.toPandas(), source=\"src\", target=\"dst\")\n",
    "nx.draw(g_sub_nx)"
   ]
  },
  {
   "cell_type": "code",
   "execution_count": 119,
   "metadata": {},
   "outputs": [
    {
     "name": "stderr",
     "output_type": "stream",
     "text": [
      "/Users/amiyaguchi/.local/share/virtualenvs/wiki-forecast-HU65IRGn/lib/python3.6/site-packages/networkx/drawing/nx_pylab.py:579: MatplotlibDeprecationWarning: \n",
      "The iterable function was deprecated in Matplotlib 3.1 and will be removed in 3.3. Use np.iterable instead.\n",
      "  if not cb.iterable(width):\n"
     ]
    },
    {
     "data": {
      "image/png": "[encoded data removed]",
      "text/plain": [
       "<Figure size 432x288 with 1 Axes>"
      ]
     },
     "metadata": {},
     "output_type": "display_data"
    }
   ],
   "source": [
    "nx.draw_spectral(g_sub_nx, edge_width=0.2)"
   ]
  },
  {
   "cell_type": "code",
   "execution_count": 121,
   "metadata": {},
   "outputs": [
    {
     "data": {
      "text/plain": [
       "[<matplotlib.lines.Line2D at 0x130222ba8>]"
      ]
     },
     "execution_count": 121,
     "metadata": {},
     "output_type": "execute_result"
    },
    {
     "data": {
      "image/png": "[encoded data removed]",
      "text/plain": [
       "<Figure size 432x288 with 1 Axes>"
      ]
     },
     "metadata": {
      "needs_background": "light"
     },
     "output_type": "display_data"
    }
   ],
   "source": [
    "from matplotlib import pyplot as plt\n",
    "\n",
    "plt.loglog(*list(zip(*list(enumerate(nx.degree_histogram(g_sub_nx))))))"
   ]
  },
  {
   "cell_type": "code",
   "execution_count": 122,
   "metadata": {},
   "outputs": [
    {
     "data": {
      "text/plain": [
       "0.6098831853657385"
      ]
     },
     "execution_count": 122,
     "metadata": {},
     "output_type": "execute_result"
    }
   ],
   "source": [
    "nx.average_clustering(g_sub_nx)"
   ]
  },
  {
   "cell_type": "code",
   "execution_count": 123,
   "metadata": {},
   "outputs": [
    {
     "data": {
      "text/plain": [
       "0.07529115153120051"
      ]
     },
     "execution_count": 123,
     "metadata": {},
     "output_type": "execute_result"
    }
   ],
   "source": [
    "nx.density(g_sub_nx)"
   ]
  },
  {
   "cell_type": "code",
   "execution_count": 124,
   "metadata": {},
   "outputs": [
    {
     "name": "stdout",
     "output_type": "stream",
     "text": [
      "Name: \n",
      "Type: Graph\n",
      "Number of nodes: 852\n",
      "Number of edges: 27295\n",
      "Average degree:  64.0728\n"
     ]
    }
   ],
   "source": [
    "print(nx.info(g_sub_nx))"
   ]
  },
  {
   "cell_type": "code",
   "execution_count": 60,
   "metadata": {},
   "outputs": [],
   "source": [
    "spark.sparkContext.setCheckpointDir('/tmp/checkpoints')"
   ]
  },
  {
   "cell_type": "code",
   "execution_count": 98,
   "metadata": {
    "scrolled": false
   },
   "outputs": [
    {
     "name": "stdout",
     "output_type": "stream",
     "text": [
      "+---------+-----+\n",
      "|component|count|\n",
      "+---------+-----+\n",
      "|      324|  852|\n",
      "+---------+-----+\n",
      "\n"
     ]
    }
   ],
   "source": [
    "g_sub.connectedComponents().groupBy(\"component\").count().show()"
   ]
  },
  {
   "cell_type": "code",
   "execution_count": 99,
   "metadata": {},
   "outputs": [
    {
     "name": "stdout",
     "output_type": "stream",
     "text": [
      "+--------+--------------------+-----------+------+\n",
      "|      id|               title|is_redirect|is_new|\n",
      "+--------+--------------------+-----------+------+\n",
      "| 7561507|        Ramón_Vargas|      false| false|\n",
      "|23865486|Alessandro_Carbonare|      false| false|\n",
      "|   11246|            Falstaff|      false| false|\n",
      "+--------+--------------------+-----------+------+\n",
      "only showing top 3 rows\n",
      "\n"
     ]
    }
   ],
   "source": [
    "g_sub.vertices.show(n=3)"
   ]
  },
  {
   "cell_type": "code",
   "execution_count": 100,
   "metadata": {},
   "outputs": [
    {
     "data": {
      "text/plain": [
       "0"
      ]
     },
     "execution_count": 100,
     "metadata": {},
     "output_type": "execute_result"
    }
   ],
   "source": [
    "g_sub.vertices.where(\"id is null\").count()"
   ]
  },
  {
   "cell_type": "code",
   "execution_count": 109,
   "metadata": {},
   "outputs": [
    {
     "name": "stdout",
     "output_type": "stream",
     "text": [
      "root\n",
      " |-- id: integer (nullable = true)\n",
      " |-- title: string (nullable = true)\n",
      " |-- is_redirect: boolean (nullable = true)\n",
      " |-- is_new: boolean (nullable = true)\n",
      "\n",
      "root\n",
      " |-- id: integer (nullable = true)\n",
      " |-- title: string (nullable = true)\n",
      " |-- is_redirect: boolean (nullable = true)\n",
      " |-- is_new: boolean (nullable = true)\n",
      "\n"
     ]
    }
   ],
   "source": [
    "g_sub.vertices.printSchema()\n",
    "g_page.vertices.printSchema()"
   ]
  },
  {
   "cell_type": "code",
   "execution_count": 114,
   "metadata": {},
   "outputs": [
    {
     "data": {
      "text/plain": [
       "75"
      ]
     },
     "execution_count": 114,
     "metadata": {},
     "output_type": "execute_result"
    }
   ],
   "source": [
    "g_sub.edges.where(\"from is null or dest is null\").count()"
   ]
  },
  {
   "cell_type": "code",
   "execution_count": null,
   "metadata": {},
   "outputs": [],
   "source": [
    "pr = g_sub.pageRank(resetProbability=0.15, tol=0.01)\n",
    "pr.cache()"
   ]
  },
  {
   "cell_type": "code",
   "execution_count": 131,
   "metadata": {},
   "outputs": [
    {
     "name": "stdout",
     "output_type": "stream",
     "text": [
      "+--------+--------------------------------------+------------------+\n",
      "|id      |title                                 |pagerank          |\n",
      "+--------+--------------------------------------+------------------+\n",
      "|25175562|Virtual_International_Authority_File  |36.978157384342104|\n",
      "|14919   |International_Standard_Book_Number    |31.7986134422773  |\n",
      "|35566739|Integrated_Authority_File             |30.35888147336831 |\n",
      "|23538754|Wayback_Machine                       |24.239472340615595|\n",
      "|1339871 |WorldCat                              |22.418537446144683|\n",
      "|1491462 |Library_of_Congress_Control_Number    |20.700324413268596|\n",
      "|18852926|International_Standard_Name_Identifier|19.014520884338374|\n",
      "|199503  |Bibliothèque_nationale_de_France      |18.502838145691662|\n",
      "|3198808 |Biblioteca_Nacional_de_España         |16.77436340353904 |\n",
      "|883885  |OCLC                                  |15.419326027180198|\n",
      "|5418449 |LIBRIS                                |12.914466171281532|\n",
      "|20012045|National_Library_of_the_Czech_Republic|12.595017502649831|\n",
      "|33551951|Système_universitaire_de_documentation|12.473433662850935|\n",
      "|2241    |Antonio_Salieri                       |11.9524602629676  |\n",
      "|2059097 |Royal_Library_of_the_Netherlands      |11.19837329392406 |\n",
      "|373399  |National_Diet_Library                 |10.08027167685049 |\n",
      "|7160586 |National_Library_of_Israel            |9.165891636174225 |\n",
      "|33163   |Wolfgang_Amadeus_Mozart               |8.865628668294217 |\n",
      "|15928428|Bibsys                                |5.777837056897815 |\n",
      "|20797   |MusicBrainz                           |5.77735717602818  |\n",
      "+--------+--------------------------------------+------------------+\n",
      "only showing top 20 rows\n",
      "\n",
      "+--------+------------------------------------+-------------------+\n",
      "|id      |title                               |pagerank           |\n",
      "+--------+------------------------------------+-------------------+\n",
      "|20107646|Peter_Kajlinger                     |0.20651356408064805|\n",
      "|21445644|Plays_with_incidental_music         |0.20651356408064805|\n",
      "|56727444|Amalia_Schütz_Oldosi                |0.20651356408064805|\n",
      "|54713040|Alexandre_Dratwicki                 |0.20651356408064805|\n",
      "|3215834 |Tim_Minchin                         |0.20651356408064805|\n",
      "|9305416 |Private_Passions                    |0.20651356408064805|\n",
      "|20598022|Austria–Italy_relations             |0.20651356408064805|\n",
      "|13860029|List_of_The_Archers_characters      |0.20651356408064805|\n",
      "|52603626|Marianne_Müller                     |0.20651356408064805|\n",
      "|52022423|La_moda                             |0.20651356408064805|\n",
      "|24449007|Zehava_Gal                          |0.20651356408064805|\n",
      "|325018  |John_Soane                          |0.20651356408064805|\n",
      "|16447604|Nicola_Tacchinardi                  |0.20651356408064805|\n",
      "|2545404 |Oleg_Tabakov                        |0.20651356408064805|\n",
      "|2809621 |The_Prestige_(film)                 |0.20651356408064805|\n",
      "|49426817|In_Boundlessness                    |0.20651356408064805|\n",
      "|7867425 |List_of_films_based_on_actual_events|0.20651356408064805|\n",
      "|17146226|Succession_(30_Rock)                |0.20651356408064805|\n",
      "|50909011|Pierre_Leduc                        |0.20651356408064805|\n",
      "|728806  |Max_Kellerman                       |0.20651356408064805|\n",
      "+--------+------------------------------------+-------------------+\n",
      "only showing top 20 rows\n",
      "\n",
      "+-----+--------+--------------------+\n",
      "|  src|     dst|              weight|\n",
      "+-----+--------+--------------------+\n",
      "| 2241|  560835|0.003144654088050...|\n",
      "| 6046|   14919|0.037037037037037035|\n",
      "| 6046|  199503|0.037037037037037035|\n",
      "|17914|   99636|0.008264462809917356|\n",
      "|19444|    1890| 0.03333333333333333|\n",
      "|32897|  675832| 0.03225806451612903|\n",
      "|33163| 1683734|0.005747126436781609|\n",
      "|33163| 1686299|0.005747126436781609|\n",
      "|33163| 5268385|0.005747126436781609|\n",
      "|34350| 1339871|0.043478260869565216|\n",
      "|37885| 1339871| 0.03333333333333333|\n",
      "|37916|   70095|0.010416666666666666|\n",
      "|38062|  675485|0.010416666666666666|\n",
      "|38092| 1491462|0.009708737864077669|\n",
      "|38475|   48518|0.034482758620689655|\n",
      "|45190|31324633| 0.02127659574468085|\n",
      "|51333|  168494|0.037037037037037035|\n",
      "|51333| 2059097|0.037037037037037035|\n",
      "|65417|  958406|            0.015625|\n",
      "|65417| 7923195|            0.015625|\n",
      "+-----+--------+--------------------+\n",
      "only showing top 20 rows\n",
      "\n"
     ]
    }
   ],
   "source": [
    "pr.vertices.orderBy(F.desc(\"pagerank\")).select(\"id\", \"title\", \"pagerank\").show(truncate=False)\n",
    "pr.vertices.orderBy(F.asc(\"pagerank\")).select(\"id\", \"title\", \"pagerank\").show(truncate=False)\n",
    "pr.edges.show()"
   ]
  }
 ],
 "metadata": {
  "kernelspec": {
   "display_name": "Python 3",
   "language": "python",
   "name": "python3"
  },
  "language_info": {
   "codemirror_mode": {
    "name": "ipython",
    "version": 3
   },
   "file_extension": ".py",
   "mimetype": "text/x-python",
   "name": "python",
   "nbconvert_exporter": "python",
   "pygments_lexer": "ipython3",
   "version": "3.6.7"
  }
 },
 "nbformat": 4,
 "nbformat_minor": 2
}
