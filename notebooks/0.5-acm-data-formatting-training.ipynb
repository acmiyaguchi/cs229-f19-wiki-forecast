{
 "cells": [
  {
   "cell_type": "code",
   "execution_count": 1,
   "metadata": {},
   "outputs": [
    {
     "name": "stdout",
     "output_type": "stream",
     "text": [
      "\u001b[01;34m../data/enwiki\u001b[00m\r\n",
      "├── \u001b[01;34mcategorylinks\u001b[00m\r\n",
      "├── \u001b[01;34mcategorypages\u001b[00m\r\n",
      "├── \u001b[01;34mpage_parquet\u001b[00m\r\n",
      "├── \u001b[01;34mpagecount_daily_v1\u001b[00m\r\n",
      "├── \u001b[01;34mpagecount_daily_v2\u001b[00m\r\n",
      "├── \u001b[01;34mpagelinks\u001b[00m\r\n",
      "└── \u001b[01;34mpages\u001b[00m\r\n",
      "\r\n",
      "7 directories\r\n"
     ]
    }
   ],
   "source": [
    "! tree -d ../data/enwiki"
   ]
  },
  {
   "cell_type": "code",
   "execution_count": 6,
   "metadata": {
    "scrolled": true
   },
   "outputs": [
    {
     "name": "stdout",
     "output_type": "stream",
     "text": [
      "+---+---------+-----------+------+\n",
      "| id|    title|is_redirect|is_new|\n",
      "+---+---------+-----------+------+\n",
      "| 12|Anarchism|      false| false|\n",
      "| 25|   Autism|      false| false|\n",
      "| 39|   Albedo|      false| false|\n",
      "|290|        A|      false| false|\n",
      "|303|  Alabama|      false| false|\n",
      "+---+---------+-----------+------+\n",
      "only showing top 5 rows\n",
      "\n",
      "+--------+--------+\n",
      "|    from|    dest|\n",
      "+--------+--------+\n",
      "|38319581|38315934|\n",
      "|38320620|12010815|\n",
      "|38320620|20038415|\n",
      "|38320620|   45127|\n",
      "|38320620|   48361|\n",
      "+--------+--------+\n",
      "only showing top 5 rows\n",
      "\n",
      "+-------+----------+-----+\n",
      "|page_id|      date|count|\n",
      "+-------+----------+-----+\n",
      "|1524604|2018-03-19|  425|\n",
      "|1524604|2019-07-15|  173|\n",
      "|1524604|2019-08-12|  182|\n",
      "|1536068|2018-04-21|  144|\n",
      "|1536068|2018-09-28|  167|\n",
      "+-------+----------+-----+\n",
      "only showing top 5 rows\n",
      "\n"
     ]
    }
   ],
   "source": [
    "base = \"../data/enwiki\"\n",
    "pages = spark.read.parquet(f\"{base}/pages\")\n",
    "pagelinks = spark.read.parquet(f\"{base}/pagelinks\")\n",
    "pagecounts = spark.read.parquet(f\"{base}/pagecount_daily_v2\")\n",
    "\n",
    "pages.createOrReplaceTempView(\"pages\")\n",
    "pagelinks.createOrReplaceTempView(\"pagelinks\")\n",
    "pagecounts.createOrReplaceTempView(\"pagecount\")\n",
    "\n",
    "pages.show(n=5)\n",
    "pagelinks.show(n=5)\n",
    "pagecounts.show(n=5)"
   ]
  },
  {
   "cell_type": "markdown",
   "metadata": {},
   "source": [
    "# Inducing a connected graph"
   ]
  },
  {
   "cell_type": "code",
   "execution_count": 18,
   "metadata": {},
   "outputs": [
    {
     "name": "stdout",
     "output_type": "stream",
     "text": [
      "+----+-------+-----------+------+\n",
      "|  id|  title|is_redirect|is_new|\n",
      "+----+-------+-----------+------+\n",
      "|4497|Bugatti|      false| false|\n",
      "+----+-------+-----------+------+\n",
      "\n"
     ]
    }
   ],
   "source": [
    "def sample_page() -> int:\n",
    "    random_page = pages.sample(False, 0.001).limit(1).collect()[0]\n",
    "    return random_page.id\n",
    "\n",
    "spark.sql(f\"select * from pages where id = {sample_page()}\").show()"
   ]
  },
  {
   "cell_type": "code",
   "execution_count": 38,
   "metadata": {},
   "outputs": [],
   "source": [
    "from graphframes import GraphFrame\n",
    "from pyspark.sql import functions as F\n",
    "\n",
    "def neighborhood_k1(pages, pagelinks, seed: int) -> GraphFrame:\n",
    "    g = GraphFrame(pages, pagelinks.selectExpr(\"from as src\", \"dest as dst\"))\n",
    "    paths = g.find(\"(a)-[e]->(b)\").where(f\"a.id == {seed}\")\n",
    "    return GraphFrame(g.vertices, paths.select(\"e.*\")).dropIsolatedVertices()\n",
    "    \n",
    "def neighborhood_k2(pages, pagelinks, seed: int) -> GraphFrame:\n",
    "    g = GraphFrame(pages, pagelinks.selectExpr(\"from as src\", \"dest as dst\"))\n",
    "    paths = g.find(\"(a)-[e1]->(b); (b)-[e2]->(c)\").where(f\"a.id == {seed}\")\n",
    "    edges = paths.select(\"e1.*\").union(paths.select(\"e2.*\"))\n",
    "    return GraphFrame(g.vertices, edges).dropIsolatedVertices()\n",
    "\n",
    "\n",
    "# 1000 nodes may be too sparsely connected for this to work out well\n",
    "def induce_graph(pages, pagelinks, n: int = 1000) -> GraphFrame:\n",
    "    sample = [n.id for n in pages.sample(False, 0.001).limit(n).collect()]\n",
    "    g =  GraphFrame(\n",
    "        pages,\n",
    "        pagelinks.selectExpr(\"from as src\", \"dest as dst\")\n",
    "    ).filterVertices(F.col(\"id\").isin(sample)).dropIsolatedVertices()\n",
    "    return g"
   ]
  },
  {
   "cell_type": "code",
   "execution_count": 20,
   "metadata": {},
   "outputs": [
    {
     "data": {
      "text/plain": [
       "(27408, 124338)"
      ]
     },
     "execution_count": 20,
     "metadata": {},
     "output_type": "execute_result"
    }
   ],
   "source": [
    "random_page = sample_page()\n",
    "g = neighborhood_k2(pages, pagelinks, random_page)\n",
    "g.vertices.count(), g.edges.count()"
   ]
  },
  {
   "cell_type": "code",
   "execution_count": 39,
   "metadata": {},
   "outputs": [
    {
     "data": {
      "text/plain": [
       "(247, 246)"
      ]
     },
     "execution_count": 39,
     "metadata": {},
     "output_type": "execute_result"
    }
   ],
   "source": [
    "g2 = neighborhood_k1(pages, pagelinks, random_page)\n",
    "g2.vertices.count(), g2.edges.count()"
   ]
  },
  {
   "cell_type": "markdown",
   "metadata": {},
   "source": [
    "# Formatting the data correctly"
   ]
  },
  {
   "cell_type": "code",
   "execution_count": 41,
   "metadata": {},
   "outputs": [
    {
     "name": "stdout",
     "output_type": "stream",
     "text": [
      "+--------+--------------------+-----------+------+\n",
      "|      id|               title|is_redirect|is_new|\n",
      "+--------+--------------------+-----------+------+\n",
      "|  203794|         Alma_Mahler|      false| false|\n",
      "|  351761|       Walter_Piston|      false| false|\n",
      "|   65174|       Gustav_Mahler|      false| false|\n",
      "|  140802|         Opus_number|      false| false|\n",
      "|  590055|   Alberto_Ginastera|      false| false|\n",
      "| 1995253|      René_Leibowitz|      false| false|\n",
      "|  246830|      Elliott_Carter|      false| false|\n",
      "| 4402111|Schliesse_mir_die...|      false| false|\n",
      "|   40258|             Harmony|      false| false|\n",
      "|   13066|     George_Gershwin|      false| false|\n",
      "|  132809|        Leoš_Janáček|      false| false|\n",
      "| 2275775|    Surrealist_music|      false| false|\n",
      "|  143098|    Conlon_Nancarrow|      false| false|\n",
      "|  373399|National_Diet_Lib...|      false| false|\n",
      "| 4764461|         World_War_I|      false| false|\n",
      "|   19556|        Mode_(music)|      false| false|\n",
      "|34838010|       Manon_Gropius|      false| false|\n",
      "|   65405|      Mauricio_Kagel|      false| false|\n",
      "|  155464|        Marcel_Dupré|      false| false|\n",
      "|   87595|         Noise_music|      false| false|\n",
      "+--------+--------------------+-----------+------+\n",
      "only showing top 20 rows\n",
      "\n"
     ]
    }
   ],
   "source": [
    "g2.cache()\n",
    "g2.vertices.show()"
   ]
  },
  {
   "cell_type": "code",
   "execution_count": 45,
   "metadata": {},
   "outputs": [
    {
     "data": {
      "image/png": "[encoded data removed]",
      "text/plain": [
       "<Figure size 432x288 with 1 Axes>"
      ]
     },
     "metadata": {},
     "output_type": "display_data"
    }
   ],
   "source": [
    "import networkx as nx\n",
    "import matplotlib.pyplot as plt\n",
    "\n",
    "g2_nx = nx.from_pandas_edgelist(g2.edges.toPandas(), source=\"src\", target=\"dst\")\n",
    "nx.draw(g2_nx)"
   ]
  },
  {
   "cell_type": "code",
   "execution_count": 47,
   "metadata": {},
   "outputs": [
    {
     "data": {
      "text/plain": [
       "57066"
      ]
     },
     "execution_count": 47,
     "metadata": {},
     "output_type": "execute_result"
    }
   ],
   "source": [
    "pv = pagecounts.join(g2.vertices, on=g2.vertices.id == pagecounts.page_id, how=\"right\")\n",
    "pv.count()"
   ]
  },
  {
   "cell_type": "code",
   "execution_count": 48,
   "metadata": {},
   "outputs": [
    {
     "name": "stdout",
     "output_type": "stream",
     "text": [
      "+--------+----------+-----+--------+--------------------+-----------+------+\n",
      "| page_id|      date|count|      id|               title|is_redirect|is_new|\n",
      "+--------+----------+-----+--------+--------------------+-----------+------+\n",
      "|10522749|2018-03-15|  265|10522749|International_Mus...|      false| false|\n",
      "|10522749|2018-07-09|  164|10522749|International_Mus...|      false| false|\n",
      "|10522749|2018-09-18|  213|10522749|International_Mus...|      false| false|\n",
      "|10522749|2018-12-17|  214|10522749|International_Mus...|      false| false|\n",
      "|10522749|2018-04-04|  218|10522749|International_Mus...|      false| false|\n",
      "|10522749|2018-02-19|  247|10522749|International_Mus...|      false| false|\n",
      "|10522749|2018-03-25|  183|10522749|International_Mus...|      false| false|\n",
      "|10522749|2018-04-11|  232|10522749|International_Mus...|      false| false|\n",
      "|10522749|2018-09-15|  147|10522749|International_Mus...|      false| false|\n",
      "|10522749|2018-11-08|  212|10522749|International_Mus...|      false| false|\n",
      "|10522749|2018-11-10|  196|10522749|International_Mus...|      false| false|\n",
      "|10522749|2019-01-11|  189|10522749|International_Mus...|      false| false|\n",
      "|10522749|2019-07-21|  146|10522749|International_Mus...|      false| false|\n",
      "|10522749|2018-04-05|  225|10522749|International_Mus...|      false| false|\n",
      "|10522749|2018-03-04|  295|10522749|International_Mus...|      false| false|\n",
      "|10522749|2018-07-05|  166|10522749|International_Mus...|      false| false|\n",
      "|10522749|2019-06-14|  144|10522749|International_Mus...|      false| false|\n",
      "|10522749|2019-07-30|  315|10522749|International_Mus...|      false| false|\n",
      "|10522749|2018-03-21|  289|10522749|International_Mus...|      false| false|\n",
      "|10522749|2018-04-27|  201|10522749|International_Mus...|      false| false|\n",
      "+--------+----------+-----+--------+--------------------+-----------+------+\n",
      "only showing top 20 rows\n",
      "\n"
     ]
    }
   ],
   "source": [
    "pv.show()"
   ]
  },
  {
   "cell_type": "code",
   "execution_count": 55,
   "metadata": {},
   "outputs": [
    {
     "data": {
      "text/plain": [
       "609"
      ]
     },
     "execution_count": 55,
     "metadata": {},
     "output_type": "execute_result"
    }
   ],
   "source": [
    "pv.select(\"date\").distinct().count()"
   ]
  },
  {
   "cell_type": "code",
   "execution_count": 58,
   "metadata": {},
   "outputs": [
    {
     "data": {
      "text/plain": [
       "array([[<matplotlib.axes._subplots.AxesSubplot object at 0x133450860>]],\n",
       "      dtype=object)"
      ]
     },
     "execution_count": 58,
     "metadata": {},
     "output_type": "execute_result"
    },
    {
     "data": {
      "image/png": "[encoded data removed]",
      "text/plain": [
       "<Figure size 432x288 with 1 Axes>"
      ]
     },
     "metadata": {
      "needs_background": "light"
     },
     "output_type": "display_data"
    }
   ],
   "source": [
    "df = pv.where(\"date is not null\").groupBy(\"page_id\").count().toPandas()\n",
    "df.hist(\"count\")"
   ]
  },
  {
   "cell_type": "code",
   "execution_count": 61,
   "metadata": {},
   "outputs": [
    {
     "data": {
      "text/html": [
       "<div>\n",
       "<style scoped>\n",
       "    .dataframe tbody tr th:only-of-type {\n",
       "        vertical-align: middle;\n",
       "    }\n",
       "\n",
       "    .dataframe tbody tr th {\n",
       "        vertical-align: top;\n",
       "    }\n",
       "\n",
       "    .dataframe thead th {\n",
       "        text-align: right;\n",
       "    }\n",
       "</style>\n",
       "<table border=\"1\" class=\"dataframe\">\n",
       "  <thead>\n",
       "    <tr style=\"text-align: right;\">\n",
       "      <th></th>\n",
       "      <th>page_id</th>\n",
       "      <th>2018-01-01</th>\n",
       "      <th>2018-01-02</th>\n",
       "      <th>2018-01-03</th>\n",
       "      <th>2018-01-04</th>\n",
       "      <th>2018-01-05</th>\n",
       "      <th>2018-01-06</th>\n",
       "      <th>2018-01-07</th>\n",
       "      <th>2018-01-08</th>\n",
       "      <th>2018-01-09</th>\n",
       "      <th>...</th>\n",
       "      <th>2019-08-23</th>\n",
       "      <th>2019-08-24</th>\n",
       "      <th>2019-08-25</th>\n",
       "      <th>2019-08-26</th>\n",
       "      <th>2019-08-27</th>\n",
       "      <th>2019-08-28</th>\n",
       "      <th>2019-08-29</th>\n",
       "      <th>2019-08-30</th>\n",
       "      <th>2019-08-31</th>\n",
       "      <th>2019-09-01</th>\n",
       "    </tr>\n",
       "  </thead>\n",
       "  <tbody>\n",
       "    <tr>\n",
       "      <td>0</td>\n",
       "      <td>10522749</td>\n",
       "      <td>165.0</td>\n",
       "      <td>209.0</td>\n",
       "      <td>279</td>\n",
       "      <td>236</td>\n",
       "      <td>222.0</td>\n",
       "      <td>217.0</td>\n",
       "      <td>204.0</td>\n",
       "      <td>353</td>\n",
       "      <td>265.0</td>\n",
       "      <td>...</td>\n",
       "      <td>148.0</td>\n",
       "      <td>126.0</td>\n",
       "      <td>116.0</td>\n",
       "      <td>139.0</td>\n",
       "      <td>175.0</td>\n",
       "      <td>164.0</td>\n",
       "      <td>169.0</td>\n",
       "      <td>178.0</td>\n",
       "      <td>150.0</td>\n",
       "      <td>157.0</td>\n",
       "    </tr>\n",
       "    <tr>\n",
       "      <td>1</td>\n",
       "      <td>51097</td>\n",
       "      <td>167.0</td>\n",
       "      <td>191.0</td>\n",
       "      <td>206</td>\n",
       "      <td>190</td>\n",
       "      <td>185.0</td>\n",
       "      <td>187.0</td>\n",
       "      <td>159.0</td>\n",
       "      <td>260</td>\n",
       "      <td>241.0</td>\n",
       "      <td>...</td>\n",
       "      <td>144.0</td>\n",
       "      <td>109.0</td>\n",
       "      <td>137.0</td>\n",
       "      <td>159.0</td>\n",
       "      <td>164.0</td>\n",
       "      <td>150.0</td>\n",
       "      <td>158.0</td>\n",
       "      <td>132.0</td>\n",
       "      <td>154.0</td>\n",
       "      <td>135.0</td>\n",
       "    </tr>\n",
       "    <tr>\n",
       "      <td>2</td>\n",
       "      <td>224463</td>\n",
       "      <td>107.0</td>\n",
       "      <td>120.0</td>\n",
       "      <td>124</td>\n",
       "      <td>157</td>\n",
       "      <td>111.0</td>\n",
       "      <td>131.0</td>\n",
       "      <td>119.0</td>\n",
       "      <td>126</td>\n",
       "      <td>114.0</td>\n",
       "      <td>...</td>\n",
       "      <td>NaN</td>\n",
       "      <td>NaN</td>\n",
       "      <td>NaN</td>\n",
       "      <td>138.0</td>\n",
       "      <td>121.0</td>\n",
       "      <td>139.0</td>\n",
       "      <td>113.0</td>\n",
       "      <td>120.0</td>\n",
       "      <td>113.0</td>\n",
       "      <td>113.0</td>\n",
       "    </tr>\n",
       "    <tr>\n",
       "      <td>3</td>\n",
       "      <td>27681</td>\n",
       "      <td>400.0</td>\n",
       "      <td>489.0</td>\n",
       "      <td>534</td>\n",
       "      <td>534</td>\n",
       "      <td>477.0</td>\n",
       "      <td>467.0</td>\n",
       "      <td>476.0</td>\n",
       "      <td>610</td>\n",
       "      <td>687.0</td>\n",
       "      <td>...</td>\n",
       "      <td>350.0</td>\n",
       "      <td>296.0</td>\n",
       "      <td>319.0</td>\n",
       "      <td>417.0</td>\n",
       "      <td>399.0</td>\n",
       "      <td>409.0</td>\n",
       "      <td>377.0</td>\n",
       "      <td>625.0</td>\n",
       "      <td>342.0</td>\n",
       "      <td>314.0</td>\n",
       "    </tr>\n",
       "    <tr>\n",
       "      <td>4</td>\n",
       "      <td>1339871</td>\n",
       "      <td>NaN</td>\n",
       "      <td>157.0</td>\n",
       "      <td>175</td>\n",
       "      <td>185</td>\n",
       "      <td>171.0</td>\n",
       "      <td>192.0</td>\n",
       "      <td>194.0</td>\n",
       "      <td>210</td>\n",
       "      <td>179.0</td>\n",
       "      <td>...</td>\n",
       "      <td>179.0</td>\n",
       "      <td>149.0</td>\n",
       "      <td>187.0</td>\n",
       "      <td>146.0</td>\n",
       "      <td>163.0</td>\n",
       "      <td>189.0</td>\n",
       "      <td>262.0</td>\n",
       "      <td>234.0</td>\n",
       "      <td>290.0</td>\n",
       "      <td>240.0</td>\n",
       "    </tr>\n",
       "    <tr>\n",
       "      <td>...</td>\n",
       "      <td>...</td>\n",
       "      <td>...</td>\n",
       "      <td>...</td>\n",
       "      <td>...</td>\n",
       "      <td>...</td>\n",
       "      <td>...</td>\n",
       "      <td>...</td>\n",
       "      <td>...</td>\n",
       "      <td>...</td>\n",
       "      <td>...</td>\n",
       "      <td>...</td>\n",
       "      <td>...</td>\n",
       "      <td>...</td>\n",
       "      <td>...</td>\n",
       "      <td>...</td>\n",
       "      <td>...</td>\n",
       "      <td>...</td>\n",
       "      <td>...</td>\n",
       "      <td>...</td>\n",
       "      <td>...</td>\n",
       "      <td>...</td>\n",
       "    </tr>\n",
       "    <tr>\n",
       "      <td>77</td>\n",
       "      <td>64437</td>\n",
       "      <td>248.0</td>\n",
       "      <td>328.0</td>\n",
       "      <td>345</td>\n",
       "      <td>293</td>\n",
       "      <td>336.0</td>\n",
       "      <td>293.0</td>\n",
       "      <td>298.0</td>\n",
       "      <td>403</td>\n",
       "      <td>373.0</td>\n",
       "      <td>...</td>\n",
       "      <td>216.0</td>\n",
       "      <td>205.0</td>\n",
       "      <td>204.0</td>\n",
       "      <td>248.0</td>\n",
       "      <td>272.0</td>\n",
       "      <td>269.0</td>\n",
       "      <td>267.0</td>\n",
       "      <td>239.0</td>\n",
       "      <td>218.0</td>\n",
       "      <td>199.0</td>\n",
       "    </tr>\n",
       "    <tr>\n",
       "      <td>78</td>\n",
       "      <td>203794</td>\n",
       "      <td>NaN</td>\n",
       "      <td>NaN</td>\n",
       "      <td>107</td>\n",
       "      <td>101</td>\n",
       "      <td>NaN</td>\n",
       "      <td>NaN</td>\n",
       "      <td>NaN</td>\n",
       "      <td>106</td>\n",
       "      <td>NaN</td>\n",
       "      <td>...</td>\n",
       "      <td>107.0</td>\n",
       "      <td>NaN</td>\n",
       "      <td>NaN</td>\n",
       "      <td>134.0</td>\n",
       "      <td>103.0</td>\n",
       "      <td>113.0</td>\n",
       "      <td>117.0</td>\n",
       "      <td>140.0</td>\n",
       "      <td>2035.0</td>\n",
       "      <td>202.0</td>\n",
       "    </tr>\n",
       "    <tr>\n",
       "      <td>79</td>\n",
       "      <td>18839</td>\n",
       "      <td>770.0</td>\n",
       "      <td>1699.0</td>\n",
       "      <td>1201</td>\n",
       "      <td>1198</td>\n",
       "      <td>1017.0</td>\n",
       "      <td>1247.0</td>\n",
       "      <td>1018.0</td>\n",
       "      <td>1322</td>\n",
       "      <td>1496.0</td>\n",
       "      <td>...</td>\n",
       "      <td>1878.0</td>\n",
       "      <td>1637.0</td>\n",
       "      <td>1574.0</td>\n",
       "      <td>1918.0</td>\n",
       "      <td>1890.0</td>\n",
       "      <td>1832.0</td>\n",
       "      <td>1848.0</td>\n",
       "      <td>1749.0</td>\n",
       "      <td>1554.0</td>\n",
       "      <td>1848.0</td>\n",
       "    </tr>\n",
       "    <tr>\n",
       "      <td>80</td>\n",
       "      <td>9906294</td>\n",
       "      <td>1374.0</td>\n",
       "      <td>1698.0</td>\n",
       "      <td>1826</td>\n",
       "      <td>1956</td>\n",
       "      <td>1818.0</td>\n",
       "      <td>1545.0</td>\n",
       "      <td>1662.0</td>\n",
       "      <td>2268</td>\n",
       "      <td>2379.0</td>\n",
       "      <td>...</td>\n",
       "      <td>1204.0</td>\n",
       "      <td>962.0</td>\n",
       "      <td>1067.0</td>\n",
       "      <td>1326.0</td>\n",
       "      <td>1402.0</td>\n",
       "      <td>1553.0</td>\n",
       "      <td>1305.0</td>\n",
       "      <td>1307.0</td>\n",
       "      <td>1032.0</td>\n",
       "      <td>1066.0</td>\n",
       "    </tr>\n",
       "    <tr>\n",
       "      <td>81</td>\n",
       "      <td>8240</td>\n",
       "      <td>652.0</td>\n",
       "      <td>1080.0</td>\n",
       "      <td>1304</td>\n",
       "      <td>1177</td>\n",
       "      <td>1023.0</td>\n",
       "      <td>928.0</td>\n",
       "      <td>1074.0</td>\n",
       "      <td>1356</td>\n",
       "      <td>1392.0</td>\n",
       "      <td>...</td>\n",
       "      <td>544.0</td>\n",
       "      <td>415.0</td>\n",
       "      <td>501.0</td>\n",
       "      <td>698.0</td>\n",
       "      <td>1126.0</td>\n",
       "      <td>815.0</td>\n",
       "      <td>755.0</td>\n",
       "      <td>580.0</td>\n",
       "      <td>461.0</td>\n",
       "      <td>536.0</td>\n",
       "    </tr>\n",
       "  </tbody>\n",
       "</table>\n",
       "<p>82 rows × 609 columns</p>\n",
       "</div>"
      ],
      "text/plain": [
       "     page_id  2018-01-01  2018-01-02  2018-01-03  2018-01-04  2018-01-05  \\\n",
       "0   10522749       165.0       209.0         279         236       222.0   \n",
       "1      51097       167.0       191.0         206         190       185.0   \n",
       "2     224463       107.0       120.0         124         157       111.0   \n",
       "3      27681       400.0       489.0         534         534       477.0   \n",
       "4    1339871         NaN       157.0         175         185       171.0   \n",
       "..       ...         ...         ...         ...         ...         ...   \n",
       "77     64437       248.0       328.0         345         293       336.0   \n",
       "78    203794         NaN         NaN         107         101         NaN   \n",
       "79     18839       770.0      1699.0        1201        1198      1017.0   \n",
       "80   9906294      1374.0      1698.0        1826        1956      1818.0   \n",
       "81      8240       652.0      1080.0        1304        1177      1023.0   \n",
       "\n",
       "    2018-01-06  2018-01-07  2018-01-08  2018-01-09  ...  2019-08-23  \\\n",
       "0        217.0       204.0         353       265.0  ...       148.0   \n",
       "1        187.0       159.0         260       241.0  ...       144.0   \n",
       "2        131.0       119.0         126       114.0  ...         NaN   \n",
       "3        467.0       476.0         610       687.0  ...       350.0   \n",
       "4        192.0       194.0         210       179.0  ...       179.0   \n",
       "..         ...         ...         ...         ...  ...         ...   \n",
       "77       293.0       298.0         403       373.0  ...       216.0   \n",
       "78         NaN         NaN         106         NaN  ...       107.0   \n",
       "79      1247.0      1018.0        1322      1496.0  ...      1878.0   \n",
       "80      1545.0      1662.0        2268      2379.0  ...      1204.0   \n",
       "81       928.0      1074.0        1356      1392.0  ...       544.0   \n",
       "\n",
       "    2019-08-24  2019-08-25  2019-08-26  2019-08-27  2019-08-28  2019-08-29  \\\n",
       "0        126.0       116.0       139.0       175.0       164.0       169.0   \n",
       "1        109.0       137.0       159.0       164.0       150.0       158.0   \n",
       "2          NaN         NaN       138.0       121.0       139.0       113.0   \n",
       "3        296.0       319.0       417.0       399.0       409.0       377.0   \n",
       "4        149.0       187.0       146.0       163.0       189.0       262.0   \n",
       "..         ...         ...         ...         ...         ...         ...   \n",
       "77       205.0       204.0       248.0       272.0       269.0       267.0   \n",
       "78         NaN         NaN       134.0       103.0       113.0       117.0   \n",
       "79      1637.0      1574.0      1918.0      1890.0      1832.0      1848.0   \n",
       "80       962.0      1067.0      1326.0      1402.0      1553.0      1305.0   \n",
       "81       415.0       501.0       698.0      1126.0       815.0       755.0   \n",
       "\n",
       "    2019-08-30  2019-08-31  2019-09-01  \n",
       "0        178.0       150.0       157.0  \n",
       "1        132.0       154.0       135.0  \n",
       "2        120.0       113.0       113.0  \n",
       "3        625.0       342.0       314.0  \n",
       "4        234.0       290.0       240.0  \n",
       "..         ...         ...         ...  \n",
       "77       239.0       218.0       199.0  \n",
       "78       140.0      2035.0       202.0  \n",
       "79      1749.0      1554.0      1848.0  \n",
       "80      1307.0      1032.0      1066.0  \n",
       "81       580.0       461.0       536.0  \n",
       "\n",
       "[82 rows x 609 columns]"
      ]
     },
     "execution_count": 61,
     "metadata": {},
     "output_type": "execute_result"
    }
   ],
   "source": [
    "df = (\n",
    "    pv.\n",
    "    join(\n",
    "        pv\n",
    "        .groupBy(\"page_id\")\n",
    "        .agg(F.countDistinct(\"date\").alias(\"age\"))\n",
    "        .where(\"age > 500\"), on=\"page_id\", how=\"right\"\n",
    "    )\n",
    "    .where(\"date is not null\")\n",
    "    .groupBy(\"page_id\")\n",
    "    .pivot(\"date\")\n",
    "    .agg(F.min(\"count\"))\n",
    ").toPandas()\n",
    "\n",
    "df"
   ]
  },
  {
   "cell_type": "code",
   "execution_count": 64,
   "metadata": {},
   "outputs": [],
   "source": [
    "import os\n",
    "os.mkdir(\"../data/trial_0\")"
   ]
  },
  {
   "cell_type": "code",
   "execution_count": 67,
   "metadata": {},
   "outputs": [],
   "source": [
    "df.to_csv(\"../data/trial_0/ts.csv\", index=False)\n",
    "g2.edges.toPandas().to_csv(\"../data/trial_0/edges.csv\", index=False)"
   ]
  },
  {
   "cell_type": "code",
   "execution_count": 77,
   "metadata": {
    "scrolled": true
   },
   "outputs": [
    {
     "name": "stdout",
     "output_type": "stream",
     "text": [
      "+--------+--------------------+\n",
      "|      id|               title|\n",
      "+--------+--------------------+\n",
      "|10522749|International_Mus...|\n",
      "|   51097|          Kurt_Weill|\n",
      "|  224463|           Carinthia|\n",
      "|   27681|    Sergei_Prokofiev|\n",
      "| 1339871|            WorldCat|\n",
      "|  185130|           Modernity|\n",
      "|31045316|              Nazism|\n",
      "|   65954|           John_Cage|\n",
      "|    5909|        Counterpoint|\n",
      "|   17268|Karlheinz_Stockha...|\n",
      "|18963870|          Literature|\n",
      "|    9508|Encyclopædia_Brit...|\n",
      "|   67482|     Richard_Strauss|\n",
      "|   95261|         Sheet_music|\n",
      "|  198778|            Composer|\n",
      "| 3198808|Biblioteca_Nacion...|\n",
      "|   26822|         Steve_Reich|\n",
      "|   66283|        Charles_Ives|\n",
      "| 1610902|Austro-Hungarian_...|\n",
      "|  158366|      Iannis_Xenakis|\n",
      "+--------+--------------------+\n",
      "only showing top 20 rows\n",
      "\n"
     ]
    }
   ],
   "source": [
    "mapping = g2.vertices.join(\n",
    "    spark.createDataFrame(df).selectExpr(\"page_id as id\"), \n",
    "    on=\"id\", how=\"right\"\n",
    ").select(\"id\", \"title\")\n",
    "mapping.show()"
   ]
  },
  {
   "cell_type": "code",
   "execution_count": 78,
   "metadata": {},
   "outputs": [],
   "source": [
    "mapping.toPandas().to_csv(\"../data/trial_0/mapping.csv\", index=False)"
   ]
  },
  {
   "cell_type": "code",
   "execution_count": 81,
   "metadata": {},
   "outputs": [
    {
     "data": {
      "text/plain": [
       "(82, 609)"
      ]
     },
     "execution_count": 81,
     "metadata": {},
     "output_type": "execute_result"
    }
   ],
   "source": [
    "df.shape"
   ]
  },
  {
   "cell_type": "code",
   "execution_count": 84,
   "metadata": {},
   "outputs": [
    {
     "name": "stdout",
     "output_type": "stream",
     "text": [
      "Overwriting ../data/trial_0/NOTES.md\n"
     ]
    }
   ],
   "source": [
    "%%writefile ../data/trial_0/NOTES.md\n",
    "# Trial 0\n",
    "This dataset is an initial experiment with training format. It contains 3 \n",
    "files: `edges`, `ts`, and `mapping`. The edges file is an edgelist for the \n",
    "graph. `ts` is the timeseries, with the first column being the page_id \n",
    "and the rest of the columns the daily pagecount starting at 2018-01-01. \n",
    "The mapping translates the page id to a title.\n",
    "\n",
    "The matrix is 82x609."
   ]
  }
 ],
 "metadata": {
  "kernelspec": {
   "display_name": "Python 3",
   "language": "python",
   "name": "python3"
  },
  "language_info": {
   "codemirror_mode": {
    "name": "ipython",
    "version": 3
   },
   "file_extension": ".py",
   "mimetype": "text/x-python",
   "name": "python",
   "nbconvert_exporter": "python",
   "pygments_lexer": "ipython3",
   "version": "3.6.7"
  }
 },
 "nbformat": 4,
 "nbformat_minor": 2
}
